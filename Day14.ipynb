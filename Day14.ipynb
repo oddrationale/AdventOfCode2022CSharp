{
 "cells": [
  {
   "attachments": {},
   "cell_type": "markdown",
   "metadata": {
    "dotnet_interactive": {
     "language": "csharp"
    },
    "polyglot_notebook": {
     "kernelName": "csharp"
    }
   },
   "source": [
    "[![Binder](https://mybinder.org/badge_logo.svg)](https://mybinder.org/v2/gh/oddrationale/AdventOfCode2022CSharp/main?urlpath=lab%2Ftree%2FDay14.ipynb)"
   ]
  },
  {
   "attachments": {},
   "cell_type": "markdown",
   "metadata": {
    "dotnet_interactive": {
     "language": "csharp"
    },
    "polyglot_notebook": {
     "kernelName": "csharp"
    }
   },
   "source": [
    "<h2>--- Day 14: Regolith Reservoir ---</h2><p>The distress signal leads you to a giant waterfall! Actually, hang on - the signal seems like it's coming from the waterfall itself, and that doesn't make any sense. However, you do notice a little path that leads <em>behind</em> the waterfall.</p>\n",
    "<p>Correction: the distress signal leads you behind a giant waterfall! There seems to be a large cave system here, and the signal definitely leads further inside.</p>\n",
    "<p>As you begin to make your way deeper underground, you feel the ground rumble for a moment. Sand begins pouring into the cave! If you don't quickly figure out where the sand is going, you could quickly become trapped!</p>\n",
    "<p>Fortunately, your <a href=\"/2018/day/17\">familiarity</a> with analyzing the path of falling material will come in handy here. You scan a two-dimensional vertical slice of the cave above you (your puzzle input) and discover that it is mostly <em>air</em> with structures made of <em>rock</em>.</p>\n",
    "<p>Your scan traces the path of each solid rock structure and reports the <code>x,y</code> coordinates that form the shape of the path, where <code>x</code> represents distance to the right and <code>y</code> represents distance down. Each path appears as a single line of text in your scan. After the first point of each path, each point indicates the end of a straight horizontal or vertical line to be drawn from the previous point. For example:</p>\n",
    "<pre><code>498,4 -&gt; 498,6 -&gt; 496,6\n",
    "503,4 -&gt; 502,4 -&gt; 502,9 -&gt; 494,9\n",
    "</code></pre>\n",
    "<p>This scan means that there are two paths of rock; the first path consists of two straight lines, and the second path consists of three straight lines. (Specifically, the first path consists of a line of rock from <code>498,4</code> through <code>498,6</code> and another line of rock from <code>498,6</code> through <code>496,6</code>.)</p>\n",
    "<p>The sand is pouring into the cave from point <code>500,0</code>.</p>\n",
    "<p>Drawing rock as <code>#</code>, air as <code>.</code>, and the source of the sand as <code>+</code>, this becomes:</p>\n",
    "<pre><code>\n",
    "  4     5  5\n",
    "  9     0  0\n",
    "  4     0  3\n",
    "0 ......+...\n",
    "1 ..........\n",
    "2 ..........\n",
    "3 ..........\n",
    "4 ....#...##\n",
    "5 ....#...#.\n",
    "6 ..###...#.\n",
    "7 ........#.\n",
    "8 ........#.\n",
    "9 #########.\n",
    "</code></pre>\n",
    "<p>Sand is produced <em>one unit at a time</em>, and the next unit of sand is not produced until the previous unit of sand <em>comes to rest</em>. A unit of sand is large enough to fill one tile of air in your scan.</p>\n",
    "<p>A unit of sand always falls <em>down one step</em> if possible. If the tile immediately below is blocked (by rock or sand), the unit of sand attempts to instead move diagonally <em>one step down and to the left</em>. If that tile is blocked, the unit of sand attempts to instead move diagonally <em>one step down and to the right</em>. Sand keeps moving as long as it is able to do so, at each step trying to move down, then down-left, then down-right. If all three possible destinations are blocked, the unit of sand <em>comes to rest</em> and no longer moves, at which point the next unit of sand is created back at the source.</p>\n",
    "<p>So, drawing sand that has come to rest as <code>o</code>, the first unit of sand simply falls straight down and then stops:</p>\n",
    "<pre><code>......+...\n",
    "..........\n",
    "..........\n",
    "..........\n",
    "....#...##\n",
    "....#...#.\n",
    "..###...#.\n",
    "........#.\n",
    "......<em>o</em>.#.\n",
    "#########.\n",
    "</code></pre>\n",
    "<p>The second unit of sand then falls straight down, lands on the first one, and then comes to rest to its left:</p>\n",
    "<pre><code>......+...\n",
    "..........\n",
    "..........\n",
    "..........\n",
    "....#...##\n",
    "....#...#.\n",
    "..###...#.\n",
    "........#.\n",
    ".....oo.#.\n",
    "#########.\n",
    "</code></pre>\n",
    "<p>After a total of five units of sand have come to rest, they form this pattern:</p>\n",
    "<pre><code>......+...\n",
    "..........\n",
    "..........\n",
    "..........\n",
    "....#...##\n",
    "....#...#.\n",
    "..###...#.\n",
    "......o.#.\n",
    "....oooo#.\n",
    "#########.\n",
    "</code></pre>\n",
    "<p>After a total of 22 units of sand:</p>\n",
    "<pre><code>......+...\n",
    "..........\n",
    "......o...\n",
    ".....ooo..\n",
    "....#ooo##\n",
    "....#ooo#.\n",
    "..###ooo#.\n",
    "....oooo#.\n",
    "...ooooo#.\n",
    "#########.\n",
    "</code></pre>\n",
    "<p>Finally, only two more units of sand can possibly come to rest:</p>\n",
    "<pre><code>......+...\n",
    "..........\n",
    "......o...\n",
    ".....ooo..\n",
    "....#ooo##\n",
    "...<em>o</em>#ooo#.\n",
    "..###ooo#.\n",
    "....oooo#.\n",
    ".<em>o</em>.ooooo#.\n",
    "#########.\n",
    "</code></pre>\n",
    "<p>Once all <code><em>24</em></code> units of sand shown above have come to rest, all further sand flows out the bottom, falling into the endless void. Just for fun, the path any new sand takes before falling forever is shown here with <code>~</code>:</p>\n",
    "<pre><code>.......+...\n",
    ".......~...\n",
    "......~o...\n",
    ".....~ooo..\n",
    "....~#ooo##\n",
    "...~o#ooo#.\n",
    "..~###ooo#.\n",
    "..~..oooo#.\n",
    ".~o.ooooo#.\n",
    "~#########.\n",
    "~..........\n",
    "~..........\n",
    "~..........\n",
    "</code></pre>\n",
    "<p>Using your scan, simulate the falling sand. <em>How many units of sand come to rest before sand starts flowing into the abyss below?</em></p>"
   ]
  },
  {
   "cell_type": "code",
   "execution_count": 8,
   "metadata": {
    "dotnet_interactive": {
     "language": "csharp"
    },
    "polyglot_notebook": {
     "kernelName": "csharp"
    },
    "vscode": {
     "languageId": "polyglot-notebook"
    }
   },
   "outputs": [],
   "source": [
    "using System.IO;"
   ]
  },
  {
   "cell_type": "code",
   "execution_count": 9,
   "metadata": {
    "dotnet_interactive": {
     "language": "csharp"
    },
    "polyglot_notebook": {
     "kernelName": "csharp"
    },
    "vscode": {
     "languageId": "polyglot-notebook"
    }
   },
   "outputs": [],
   "source": [
    "var input = File.ReadAllLines(\"input/14.txt\");"
   ]
  },
  {
   "cell_type": "code",
   "execution_count": 10,
   "metadata": {
    "dotnet_interactive": {
     "language": "csharp"
    },
    "polyglot_notebook": {
     "kernelName": "csharp"
    },
    "vscode": {
     "languageId": "polyglot-notebook"
    }
   },
   "outputs": [],
   "source": [
    "Dictionary<(int X, int Y), char> mapCave(string[] input)\n",
    "{\n",
    "    var cave = new Dictionary<(int X, int Y), char>();\n",
    "\n",
    "    void fill((int X, int Y) start, (int X, int Y) end)\n",
    "    {\n",
    "        var minX = Math.Min(start.X, end.X);\n",
    "        var maxX = Math.Max(start.X, end.X);\n",
    "        var minY = Math.Min(start.Y, end.Y);\n",
    "        var maxY = Math.Max(start.Y, end.Y);\n",
    "\n",
    "        for (var y = minY; y <= maxY; y++)\n",
    "        {\n",
    "            for (var x = minX; x <= maxX; x++)\n",
    "            {\n",
    "                cave[(x, y)] = '#';\n",
    "            }\n",
    "        }\n",
    "    }\n",
    "\n",
    "    foreach (var line in input)\n",
    "    {\n",
    "        var points = line\n",
    "            .Split(\" -> \")\n",
    "            .Select(point => point\n",
    "                .Split(\",\")\n",
    "                .Select(int.Parse))\n",
    "            .Select(point => (point.First(), point.Last()));\n",
    "        var pairs = points.Zip(points.Skip(1));\n",
    "\n",
    "        foreach (var (start, end) in pairs)\n",
    "        {\n",
    "            fill(start, end);\n",
    "        }\n",
    "    }\n",
    "\n",
    "    return cave;\n",
    "}"
   ]
  },
  {
   "cell_type": "code",
   "execution_count": 11,
   "metadata": {
    "dotnet_interactive": {
     "language": "csharp"
    },
    "polyglot_notebook": {
     "kernelName": "csharp"
    },
    "vscode": {
     "languageId": "polyglot-notebook"
    }
   },
   "outputs": [],
   "source": [
    "string drawCave(Dictionary<(int X, int Y), char> cave)\n",
    "{\n",
    "    var minX = cave.Keys.Select(k => k.X).Min();\n",
    "    var maxX = cave.Keys.Select(k => k.X).Max();\n",
    "    var minY = cave.Keys.Select(k => k.Y).Min();\n",
    "    var maxY = cave.Keys.Select(k => k.Y).Max();\n",
    "\n",
    "    var map = new StringBuilder();\n",
    "    for (var y = minY; y <= maxY; y++)\n",
    "    {\n",
    "        var line = new StringBuilder();\n",
    "        for (var x = minX; x <= maxX; x++)\n",
    "        {\n",
    "            if (cave.ContainsKey((x, y)))\n",
    "            {\n",
    "                line.Append(cave[(x, y)]);\n",
    "            }\n",
    "            else\n",
    "            {\n",
    "                line.Append('.');\n",
    "            }\n",
    "        }\n",
    "        map.AppendLine(line.ToString());\n",
    "    }\n",
    "\n",
    "    return map.ToString();\n",
    "}"
   ]
  },
  {
   "cell_type": "code",
   "execution_count": 12,
   "metadata": {
    "dotnet_interactive": {
     "language": "csharp"
    },
    "polyglot_notebook": {
     "kernelName": "csharp"
    },
    "vscode": {
     "languageId": "polyglot-notebook"
    }
   },
   "outputs": [],
   "source": [
    "void simulateSand(Dictionary<(int X, int Y), char> cave, (int X, int Y) source, bool floor = false)\n",
    "{\n",
    "    // var visual = display(drawCave(cave));\n",
    "    var maxY = cave.Keys.Select(k => k.Y).Max();\n",
    "    \n",
    "    (int X, int Y) drop((int X, int Y) prev)\n",
    "    {\n",
    "        var (x, y) = prev;\n",
    "        \n",
    "        if (y > maxY)\n",
    "        {\n",
    "            return floor ? (x, y) : (-1, -1);\n",
    "        }\n",
    "\n",
    "        if (!cave.ContainsKey((x, y + 1)))\n",
    "        {\n",
    "            return drop((x, y + 1));\n",
    "        }\n",
    "\n",
    "        if (!cave.ContainsKey((x - 1, y + 1)))\n",
    "        {\n",
    "            return drop((x - 1, y + 1));\n",
    "        }\n",
    "\n",
    "        if (!cave.ContainsKey((x + 1, y + 1)))\n",
    "        {\n",
    "            return drop((x + 1, y + 1));\n",
    "        }\n",
    "\n",
    "        return (x, y);\n",
    "    }\n",
    "\n",
    "    var nextSand = drop(source);\n",
    "    while (nextSand != (-1, -1))\n",
    "    {\n",
    "        cave[nextSand] = 'o';\n",
    "        // visual.Update(drawCave(cave));\n",
    "        if (floor && nextSand == source)\n",
    "        {\n",
    "            break;\n",
    "        }\n",
    "        nextSand = drop(source);\n",
    "    }\n",
    "}"
   ]
  },
  {
   "cell_type": "code",
   "execution_count": 13,
   "metadata": {
    "dotnet_interactive": {
     "language": "csharp"
    },
    "polyglot_notebook": {
     "kernelName": "csharp"
    },
    "vscode": {
     "languageId": "polyglot-notebook"
    }
   },
   "outputs": [
    {
     "data": {
      "text/html": [
       "<div class=\"dni-plaintext\"><pre>901</pre></div><style>\r\n",
       ".dni-code-hint {\r\n",
       "    font-style: italic;\r\n",
       "    overflow: hidden;\r\n",
       "    white-space: nowrap;\r\n",
       "}\r\n",
       ".dni-treeview {\r\n",
       "    white-space: nowrap;\r\n",
       "}\r\n",
       ".dni-treeview td {\r\n",
       "    vertical-align: top;\r\n",
       "    text-align: start;\r\n",
       "}\r\n",
       "details.dni-treeview {\r\n",
       "    padding-left: 1em;\r\n",
       "}\r\n",
       "table td {\r\n",
       "    text-align: start;\r\n",
       "}\r\n",
       "table tr { \r\n",
       "    vertical-align: top; \r\n",
       "    margin: 0em 0px;\r\n",
       "}\r\n",
       "table tr td pre \r\n",
       "{ \r\n",
       "    vertical-align: top !important; \r\n",
       "    margin: 0em 0px !important;\r\n",
       "} \r\n",
       "table th {\r\n",
       "    text-align: start;\r\n",
       "}\r\n",
       "</style>"
      ]
     },
     "metadata": {},
     "output_type": "display_data"
    },
    {
     "data": {
      "text/plain": [
       "Wall time: 117.6796ms"
      ]
     },
     "metadata": {},
     "output_type": "display_data"
    }
   ],
   "source": [
    "#!time\n",
    "var cave = mapCave(input);\n",
    "simulateSand(cave, (500, 0));\n",
    "cave.Values.Where(v => v == 'o').Count()"
   ]
  },
  {
   "attachments": {},
   "cell_type": "markdown",
   "metadata": {
    "dotnet_interactive": {
     "language": "csharp"
    },
    "polyglot_notebook": {
     "kernelName": "csharp"
    }
   },
   "source": [
    "<h2 id=\"part2\">--- Part Two ---</h2><p>You realize you misread the scan. There isn't an <span title=\"Endless Void is my C cover band.\">endless void</span> at the bottom of the scan - there's floor, and you're standing on it!</p>\n",
    "<p>You don't have time to scan the floor, so assume the floor is an infinite horizontal line with a <code>y</code> coordinate equal to <em>two plus the highest <code>y</code> coordinate</em> of any point in your scan.</p>\n",
    "<p>In the example above, the highest <code>y</code> coordinate of any point is <code>9</code>, and so the floor is at <code>y=11</code>. (This is as if your scan contained one extra rock path like <code>-infinity,11 -&gt; infinity,11</code>.) With the added floor, the example above now looks like this:</p>\n",
    "<pre><code>        ...........+........\n",
    "        ....................\n",
    "        ....................\n",
    "        ....................\n",
    "        .........#...##.....\n",
    "        .........#...#......\n",
    "        .......###...#......\n",
    "        .............#......\n",
    "        .............#......\n",
    "        .....#########......\n",
    "        ....................\n",
    "&lt;-- etc #################### etc --&gt;\n",
    "</code></pre>\n",
    "<p>To find somewhere safe to stand, you'll need to simulate falling sand until a unit of sand comes to rest at <code>500,0</code>, blocking the source entirely and stopping the flow of sand into the cave. In the example above, the situation finally looks like this after <code><em>93</em></code> units of sand come to rest:</p>\n",
    "<pre><code>............o............\n",
    "...........ooo...........\n",
    "..........ooooo..........\n",
    ".........ooooooo.........\n",
    "........oo#ooo##o........\n",
    ".......ooo#ooo#ooo.......\n",
    "......oo###ooo#oooo......\n",
    ".....oooo.oooo#ooooo.....\n",
    "....oooooooooo#oooooo....\n",
    "...ooo#########ooooooo...\n",
    "..ooooo.......ooooooooo..\n",
    "#########################\n",
    "</code></pre>\n",
    "<p>Using your scan, simulate the falling sand until the source of the sand becomes blocked. <em>How many units of sand come to rest?</em></p>"
   ]
  },
  {
   "cell_type": "code",
   "execution_count": 14,
   "metadata": {
    "dotnet_interactive": {
     "language": "csharp"
    },
    "polyglot_notebook": {
     "kernelName": "csharp"
    },
    "vscode": {
     "languageId": "polyglot-notebook"
    }
   },
   "outputs": [
    {
     "data": {
      "text/html": [
       "<div class=\"dni-plaintext\"><pre>24589</pre></div><style>\r\n",
       ".dni-code-hint {\r\n",
       "    font-style: italic;\r\n",
       "    overflow: hidden;\r\n",
       "    white-space: nowrap;\r\n",
       "}\r\n",
       ".dni-treeview {\r\n",
       "    white-space: nowrap;\r\n",
       "}\r\n",
       ".dni-treeview td {\r\n",
       "    vertical-align: top;\r\n",
       "    text-align: start;\r\n",
       "}\r\n",
       "details.dni-treeview {\r\n",
       "    padding-left: 1em;\r\n",
       "}\r\n",
       "table td {\r\n",
       "    text-align: start;\r\n",
       "}\r\n",
       "table tr { \r\n",
       "    vertical-align: top; \r\n",
       "    margin: 0em 0px;\r\n",
       "}\r\n",
       "table tr td pre \r\n",
       "{ \r\n",
       "    vertical-align: top !important; \r\n",
       "    margin: 0em 0px !important;\r\n",
       "} \r\n",
       "table th {\r\n",
       "    text-align: start;\r\n",
       "}\r\n",
       "</style>"
      ]
     },
     "metadata": {},
     "output_type": "display_data"
    },
    {
     "data": {
      "text/plain": [
       "Wall time: 584.1075ms"
      ]
     },
     "metadata": {},
     "output_type": "display_data"
    }
   ],
   "source": [
    "#!time\n",
    "var cave = mapCave(input);\n",
    "simulateSand(cave, (500, 0), floor: true);\n",
    "cave.Values.Where(v => v == 'o').Count()"
   ]
  }
 ],
 "metadata": {
  "kernelspec": {
   "display_name": ".NET (C#)",
   "language": "C#",
   "name": ".net-csharp"
  },
  "polyglot_notebook": {
   "kernelInfo": {
    "defaultKernelName": "csharp",
    "items": [
     {
      "aliases": [],
      "name": "csharp"
     }
    ]
   }
  }
 },
 "nbformat": 4,
 "nbformat_minor": 2
}
