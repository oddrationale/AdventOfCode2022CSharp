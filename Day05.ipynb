{
 "cells": [
  {
   "cell_type": "markdown",
   "metadata": {},
   "source": [
    "[![Binder](https://mybinder.org/badge_logo.svg)](https://mybinder.org/v2/gh/oddrationale/AdventOfCode2022CSharp/main?urlpath=lab%2Ftree%2FDay05.ipynb)"
   ]
  },
  {
   "cell_type": "markdown",
   "metadata": {
    "dotnet_interactive": {
     "language": "csharp"
    }
   },
   "source": [
    "<h2>--- Day 5: Supply Stacks ---</h2><p>The expedition can depart as soon as the final supplies have been unloaded from the ships. Supplies are stored in stacks of marked <em>crates</em>, but because the needed supplies are buried under many other crates, the crates need to be rearranged.</p>\n",
    "<p>The ship has a <em>giant cargo crane</em> capable of moving crates between stacks. To ensure none of the crates get crushed or fall over, the crane operator will rearrange them in a series of carefully-planned steps. After the crates are rearranged, the desired crates will be at the top of each stack.</p>\n",
    "<p>The Elves don't want to interrupt the crane operator during this delicate procedure, but they forgot to ask her <em>which</em> crate will end up where, and they want to be ready to unload them as soon as possible so they can embark.</p>\n",
    "<p>They do, however, have a drawing of the starting stacks of crates <em>and</em> the rearrangement procedure (your puzzle input). For example:</p>\n",
    "<pre><code>    [D]    \n",
    "[N] [C]    \n",
    "[Z] [M] [P]\n",
    " 1   2   3 \n",
    "\n",
    "move 1 from 2 to 1\n",
    "move 3 from 1 to 3\n",
    "move 2 from 2 to 1\n",
    "move 1 from 1 to 2\n",
    "</code></pre>\n",
    "<p>In this example, there are three stacks of crates. Stack 1 contains two crates: crate <code>Z</code> is on the bottom, and crate <code>N</code> is on top. Stack 2 contains three crates; from bottom to top, they are crates <code>M</code>, <code>C</code>, and <code>D</code>. Finally, stack 3 contains a single crate, <code>P</code>.</p>\n",
    "<p>Then, the rearrangement procedure is given. In each step of the procedure, a quantity of crates is moved from one stack to a different stack. In the first step of the above rearrangement procedure, one crate is moved from stack 2 to stack 1, resulting in this configuration:</p>\n",
    "<pre><code>[D]        \n",
    "[N] [C]    \n",
    "[Z] [M] [P]\n",
    " 1   2   3 \n",
    "</code></pre>\n",
    "<p>In the second step, three crates are moved from stack 1 to stack 3. Crates are moved <em>one at a time</em>, so the first crate to be moved (<code>D</code>) ends up below the second and third crates:</p>\n",
    "<pre><code>        [Z]\n",
    "        [N]\n",
    "    [C] [D]\n",
    "    [M] [P]\n",
    " 1   2   3\n",
    "</code></pre>\n",
    "<p>Then, both crates are moved from stack 2 to stack 1. Again, because crates are moved <em>one at a time</em>, crate <code>C</code> ends up below crate <code>M</code>:</p>\n",
    "<pre><code>        [Z]\n",
    "        [N]\n",
    "[M]     [D]\n",
    "[C]     [P]\n",
    " 1   2   3\n",
    "</code></pre>\n",
    "<p>Finally, one crate is moved from stack 1 to stack 2:</p>\n",
    "<pre><code>        [<em>Z</em>]\n",
    "        [N]\n",
    "        [D]\n",
    "[<em>C</em>] [<em>M</em>] [P]\n",
    " 1   2   3\n",
    "</code></pre>\n",
    "<p>The Elves just need to know <em>which crate will end up on top of each stack</em>; in this example, the top crates are <code>C</code> in stack 1, <code>M</code> in stack 2, and <code>Z</code> in stack 3, so you should combine these together and give the Elves the message <code><em>CMZ</em></code>.</p>\n",
    "<p><em>After the rearrangement procedure completes, what crate ends up on top of each stack?</em></p>"
   ]
  },
  {
   "cell_type": "code",
   "execution_count": 9,
   "metadata": {
    "dotnet_interactive": {
     "language": "csharp"
    },
    "vscode": {
     "languageId": "dotnet-interactive.csharp"
    }
   },
   "outputs": [],
   "source": [
    "using System.IO;\n",
    "using System.Text.RegularExpressions;\n",
    "using System.Collections;"
   ]
  },
  {
   "cell_type": "code",
   "execution_count": 10,
   "metadata": {
    "dotnet_interactive": {
     "language": "csharp"
    },
    "vscode": {
     "languageId": "dotnet-interactive.csharp"
    }
   },
   "outputs": [],
   "source": [
    "var input = File.ReadAllText(\"input/05.txt\").Split(\"\\n\\n\");"
   ]
  },
  {
   "cell_type": "code",
   "execution_count": 11,
   "metadata": {
    "dotnet_interactive": {
     "language": "csharp"
    },
    "vscode": {
     "languageId": "dotnet-interactive.csharp"
    }
   },
   "outputs": [],
   "source": [
    "Dictionary<int, Stack<string>> parseStacks(string input)\n",
    "{\n",
    "    var stacks = new Dictionary<int, Stack<string>>();\n",
    "    var re = new Regex(@\"^(.(.).\\s?){9}$\");\n",
    "    \n",
    "    var lines = input\n",
    "        .Split(\"\\n\")\n",
    "        .Reverse()\n",
    "        .ToArray();\n",
    "\n",
    "    foreach (Capture capture in re.Match(lines.First()).Groups[2].Captures)\n",
    "    {\n",
    "        stacks[int.Parse(capture.Value)] = new Stack<string>();\n",
    "    }\n",
    "\n",
    "    foreach (var line in lines.Skip(1))\n",
    "    {\n",
    "        var captures = re.Match(line).Groups[2].Captures;\n",
    "        for (var i = 0; i < captures.Count; i++)\n",
    "        {\n",
    "            if (!String.IsNullOrWhiteSpace(captures[i].Value))\n",
    "            {\n",
    "                stacks[i + 1].Push(captures[i].Value);\n",
    "            }\n",
    "        }\n",
    "    }\n",
    "\n",
    "    return stacks;\n",
    "}"
   ]
  },
  {
   "cell_type": "code",
   "execution_count": 13,
   "metadata": {
    "dotnet_interactive": {
     "language": "csharp"
    },
    "vscode": {
     "languageId": "dotnet-interactive.csharp"
    }
   },
   "outputs": [],
   "source": [
    "void move(Dictionary<int, Stack<string>> stacks, string procedure)\n",
    "{\n",
    "    var re = new Regex(@\"^move (\\d+) from (\\d+) to (\\d+)$\");\n",
    "    var groups = re.Match(procedure).Groups;\n",
    "    var numberOfCrates = int.Parse(groups[1].Value);\n",
    "    var from = int.Parse(groups[2].Value);\n",
    "    var to = int.Parse(groups[3].Value);\n",
    "\n",
    "    for (var i = 0; i < numberOfCrates; i++)\n",
    "    {\n",
    "        stacks[to].Push(stacks[from].Pop());\n",
    "    }\n",
    "}"
   ]
  },
  {
   "cell_type": "code",
   "execution_count": 14,
   "metadata": {
    "dotnet_interactive": {
     "language": "csharp"
    },
    "vscode": {
     "languageId": "dotnet-interactive.csharp"
    }
   },
   "outputs": [
    {
     "data": {
      "text/plain": [
       "SBPQRSCDF"
      ]
     },
     "metadata": {},
     "output_type": "display_data"
    },
    {
     "data": {
      "text/plain": [
       "Wall time: 45.042ms"
      ]
     },
     "metadata": {},
     "output_type": "display_data"
    }
   ],
   "source": [
    "#!time\n",
    "var stacks = parseStacks(input[0]);\n",
    "var procedures = input[1].Split(\"\\n\", StringSplitOptions.RemoveEmptyEntries);\n",
    "\n",
    "foreach (var procedure in procedures)\n",
    "{\n",
    "    move(stacks, procedure);\n",
    "}\n",
    "\n",
    "String.Join(\"\", stacks.Select(kv => kv.Value.Peek()))"
   ]
  },
  {
   "cell_type": "markdown",
   "metadata": {
    "dotnet_interactive": {
     "language": "csharp"
    }
   },
   "source": [
    "<h2 id=\"part2\">--- Part Two ---</h2><p>As you watch the crane operator expertly rearrange the crates, you notice the process isn't following your prediction.</p>\n",
    "<p>Some mud was covering the writing on the side of the crane, and you quickly wipe it away. The crane isn't a CrateMover 9000 - it's a <em><span title=\"It's way better than the old CrateMover 1006.\">CrateMover 9001</span></em>.</p>\n",
    "<p>The CrateMover 9001 is notable for many new and exciting features: air conditioning, leather seats, an extra cup holder, and <em>the ability to pick up and move multiple crates at once</em>.</p>\n",
    "<p>Again considering the example above, the crates begin in the same configuration:</p>\n",
    "<pre><code>    [D]    \n",
    "[N] [C]    \n",
    "[Z] [M] [P]\n",
    " 1   2   3 \n",
    "</code></pre>\n",
    "<p>Moving a single crate from stack 2 to stack 1 behaves the same as before:</p>\n",
    "<pre><code>[D]        \n",
    "[N] [C]    \n",
    "[Z] [M] [P]\n",
    " 1   2   3 \n",
    "</code></pre>\n",
    "<p>However, the action of moving three crates from stack 1 to stack 3 means that those three moved crates <em>stay in the same order</em>, resulting in this new configuration:</p>\n",
    "<pre><code>        [D]\n",
    "        [N]\n",
    "    [C] [Z]\n",
    "    [M] [P]\n",
    " 1   2   3\n",
    "</code></pre>\n",
    "<p>Next, as both crates are moved from stack 2 to stack 1, they <em>retain their order</em> as well:</p>\n",
    "<pre><code>        [D]\n",
    "        [N]\n",
    "[C]     [Z]\n",
    "[M]     [P]\n",
    " 1   2   3\n",
    "</code></pre>\n",
    "<p>Finally, a single crate is still moved from stack 1 to stack 2, but now it's crate <code>C</code> that gets moved:</p>\n",
    "<pre><code>        [<em>D</em>]\n",
    "        [N]\n",
    "        [Z]\n",
    "[<em>M</em>] [<em>C</em>] [P]\n",
    " 1   2   3\n",
    "</code></pre>\n",
    "<p>In this example, the CrateMover 9001 has put the crates in a totally different order: <code><em>MCD</em></code>.</p>\n",
    "<p>Before the rearrangement process finishes, update your simulation so that the Elves know where they should stand to be ready to unload the final supplies. <em>After the rearrangement procedure completes, what crate ends up on top of each stack?</em></p>"
   ]
  },
  {
   "cell_type": "code",
   "execution_count": 15,
   "metadata": {
    "dotnet_interactive": {
     "language": "csharp"
    },
    "vscode": {
     "languageId": "dotnet-interactive.csharp"
    }
   },
   "outputs": [],
   "source": [
    "void move2(Dictionary<int, Stack<string>> stacks, string procedure)\n",
    "{\n",
    "    var re = new Regex(@\"^move (\\d+) from (\\d+) to (\\d+)$\");\n",
    "    var groups = re.Match(procedure).Groups;\n",
    "    var numberOfCrates = int.Parse(groups[1].Value);\n",
    "    var from = int.Parse(groups[2].Value);\n",
    "    var to = int.Parse(groups[3].Value);\n",
    "    var tempStack = new Stack<string>();\n",
    "\n",
    "    for (var i = 0; i < numberOfCrates; i++)\n",
    "    {\n",
    "        tempStack.Push(stacks[from].Pop());\n",
    "    }\n",
    "\n",
    "    var count = tempStack.Count;\n",
    "    for (var i = 0; i < count; i++)\n",
    "    {\n",
    "        stacks[to].Push(tempStack.Pop());\n",
    "    }\n",
    "}"
   ]
  },
  {
   "cell_type": "code",
   "execution_count": 16,
   "metadata": {
    "dotnet_interactive": {
     "language": "csharp"
    },
    "vscode": {
     "languageId": "dotnet-interactive.csharp"
    }
   },
   "outputs": [
    {
     "data": {
      "text/plain": [
       "RGLVRCQSB"
      ]
     },
     "metadata": {},
     "output_type": "display_data"
    },
    {
     "data": {
      "text/plain": [
       "Wall time: 49.402ms"
      ]
     },
     "metadata": {},
     "output_type": "display_data"
    }
   ],
   "source": [
    "#!time\n",
    "var stacks2 = parseStacks(input[0]);\n",
    "\n",
    "foreach (var procedure in procedures)\n",
    "{\n",
    "    move2(stacks2, procedure);\n",
    "}\n",
    "\n",
    "String.Join(\"\", stacks2.Select(kv => kv.Value.Peek()))"
   ]
  }
 ],
 "metadata": {
  "kernelspec": {
   "display_name": ".NET (C#)",
   "language": "C#",
   "name": ".net-csharp"
  },
  "language_info": {
   "file_extension": ".cs",
   "mimetype": "text/x-csharp",
   "name": "C#",
   "pygments_lexer": "csharp",
   "version": "9.0"
  }
 },
 "nbformat": 4,
 "nbformat_minor": 2
}
