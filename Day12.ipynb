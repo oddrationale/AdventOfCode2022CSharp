{
 "cells": [
  {
   "attachments": {},
   "cell_type": "markdown",
   "metadata": {
    "dotnet_interactive": {
     "language": "csharp"
    },
    "polyglot_notebook": {
     "kernelName": "csharp"
    }
   },
   "source": [
    "[![Binder](https://mybinder.org/badge_logo.svg)](https://mybinder.org/v2/gh/oddrationale/AdventOfCode2022CSharp/main?urlpath=lab%2Ftree%2FDay12.ipynb)"
   ]
  },
  {
   "attachments": {},
   "cell_type": "markdown",
   "metadata": {
    "dotnet_interactive": {
     "language": "csharp"
    },
    "polyglot_notebook": {
     "kernelName": "csharp"
    }
   },
   "source": [
    "<h2>--- Day 12: Hill Climbing Algorithm ---</h2><p>You try contacting the Elves using your <span title=\"When you look up the specs for your handheld device, every field just says &quot;plot&quot;.\">handheld device</span>, but the river you're following must be too low to get a decent signal.</p>\n",
    "<p>You ask the device for a heightmap of the surrounding area (your puzzle input). The heightmap shows the local area from above broken into a grid; the elevation of each square of the grid is given by a single lowercase letter, where <code>a</code> is the lowest elevation, <code>b</code> is the next-lowest, and so on up to the highest elevation, <code>z</code>.</p>\n",
    "<p>Also included on the heightmap are marks for your current position (<code>S</code>) and the location that should get the best signal (<code>E</code>). Your current position (<code>S</code>) has elevation <code>a</code>, and the location that should get the best signal (<code>E</code>) has elevation <code>z</code>.</p>\n",
    "<p>You'd like to reach <code>E</code>, but to save energy, you should do it in <em>as few steps as possible</em>. During each step, you can move exactly one square up, down, left, or right. To avoid needing to get out your climbing gear, the elevation of the destination square can be <em>at most one higher</em> than the elevation of your current square; that is, if your current elevation is <code>m</code>, you could step to elevation <code>n</code>, but not to elevation <code>o</code>. (This also means that the elevation of the destination square can be much lower than the elevation of your current square.)</p>\n",
    "<p>For example:</p>\n",
    "<pre><code><em>S</em>abqponm\n",
    "abcryxxl\n",
    "accsz<em>E</em>xk\n",
    "acctuvwj\n",
    "abdefghi\n",
    "</code></pre>\n",
    "<p>Here, you start in the top-left corner; your goal is near the middle. You could start by moving down or right, but eventually you'll need to head toward the <code>e</code> at the bottom. From there, you can spiral around to the goal:</p>\n",
    "<pre><code>v..v&lt;&lt;&lt;&lt;\n",
    "&gt;v.vv&lt;&lt;^\n",
    ".&gt;vv&gt;E^^\n",
    "..v&gt;&gt;&gt;^^\n",
    "..&gt;&gt;&gt;&gt;&gt;^\n",
    "</code></pre>\n",
    "<p>In the above diagram, the symbols indicate whether the path exits each square moving up (<code>^</code>), down (<code>v</code>), left (<code>&lt;</code>), or right (<code>&gt;</code>). The location that should get the best signal is still <code>E</code>, and <code>.</code> marks unvisited squares.</p>\n",
    "<p>This path reaches the goal in <code><em>31</em></code> steps, the fewest possible.</p>\n",
    "<p><em>What is the fewest steps required to move from your current position to the location that should get the best signal?</em></p>"
   ]
  },
  {
   "cell_type": "code",
   "execution_count": 10,
   "metadata": {
    "dotnet_interactive": {
     "language": "csharp"
    },
    "polyglot_notebook": {
     "kernelName": "csharp"
    },
    "vscode": {
     "languageId": "polyglot-notebook"
    }
   },
   "outputs": [],
   "source": [
    "using System.IO;"
   ]
  },
  {
   "cell_type": "code",
   "execution_count": 11,
   "metadata": {
    "dotnet_interactive": {
     "language": "csharp"
    },
    "polyglot_notebook": {
     "kernelName": "csharp"
    },
    "vscode": {
     "languageId": "polyglot-notebook"
    }
   },
   "outputs": [],
   "source": [
    "var input = File.ReadAllLines(\"input/12.txt\");"
   ]
  },
  {
   "cell_type": "code",
   "execution_count": 12,
   "metadata": {
    "dotnet_interactive": {
     "language": "csharp"
    },
    "polyglot_notebook": {
     "kernelName": "csharp"
    },
    "vscode": {
     "languageId": "polyglot-notebook"
    }
   },
   "outputs": [],
   "source": [
    "List<(int, int)> findPathDesc(string[] map, char start, char end)\n",
    "{\n",
    "    var maxX = map.First().Length;\n",
    "    var maxY = map.Length;\n",
    "    \n",
    "    (int, int) findCoords(char c = 'E')\n",
    "    {\n",
    "        var y = 0;\n",
    "        foreach (var line in map)\n",
    "        {\n",
    "            if (line.Contains(c))\n",
    "            {\n",
    "                break;\n",
    "            }\n",
    "            y++;\n",
    "        }\n",
    "\n",
    "        var x = map[y].IndexOf(c);\n",
    "        return (x, y);\n",
    "    }\n",
    "    \n",
    "    List<(int, int)> neighbors(int x, int y)\n",
    "    {\n",
    "        var directions = new (int, int)[]\n",
    "        {\n",
    "            ( 1,  0),\n",
    "            (-1,  0),\n",
    "            ( 0, -1),\n",
    "            ( 0,  1),\n",
    "        };\n",
    "        var neighbors = new List<(int, int)>();\n",
    "        \n",
    "        foreach (var dir in directions)\n",
    "        {\n",
    "            var (dx, dy) = dir;\n",
    "            var nx = x + dx;\n",
    "            var ny = y + dy;\n",
    "            if (0 <= nx && nx < maxX && 0 <= ny && ny < maxY && \n",
    "                (map[y][x] == 'E' || input[ny][nx] == 'S' || map[y][x] - 1 <= map[ny][nx]))\n",
    "            {\n",
    "                neighbors.Add((nx, ny));\n",
    "            }\n",
    "        }\n",
    "\n",
    "        return neighbors;\n",
    "    }\n",
    "\n",
    "    var queue = new Queue<List<(int, int)>>();\n",
    "    var explored = new List<(int, int)>();\n",
    "    var root = findCoords(start);\n",
    "\n",
    "    explored.Add(root);\n",
    "    queue.Enqueue(new List<(int, int)>() {root});\n",
    "\n",
    "    while (queue.Any())\n",
    "    {\n",
    "        var path = queue.Dequeue();\n",
    "        var (x, y) = path.Last();\n",
    "        if (map[y][x] == end)\n",
    "        {\n",
    "            return path;\n",
    "        }\n",
    "\n",
    "        foreach (var next in neighbors(x, y))\n",
    "        {\n",
    "            if (!explored.Contains(next))\n",
    "            {\n",
    "                var newPath = path.ToList();\n",
    "                newPath.Add(next);\n",
    "                explored.Add(next);\n",
    "                queue.Enqueue(newPath);\n",
    "            }\n",
    "        }\n",
    "    }\n",
    "\n",
    "    return new List<(int, int)>();\n",
    "}"
   ]
  },
  {
   "cell_type": "code",
   "execution_count": 13,
   "metadata": {
    "dotnet_interactive": {
     "language": "csharp"
    },
    "polyglot_notebook": {
     "kernelName": "csharp"
    },
    "vscode": {
     "languageId": "polyglot-notebook"
    }
   },
   "outputs": [
    {
     "data": {
      "text/html": [
       "<div class=\"dni-plaintext\"><pre>440</pre></div><style>\r\n",
       ".dni-code-hint {\r\n",
       "    font-style: italic;\r\n",
       "    overflow: hidden;\r\n",
       "    white-space: nowrap;\r\n",
       "}\r\n",
       ".dni-treeview {\r\n",
       "    white-space: nowrap;\r\n",
       "}\r\n",
       ".dni-treeview td {\r\n",
       "    vertical-align: top;\r\n",
       "    text-align: start;\r\n",
       "}\r\n",
       "details.dni-treeview {\r\n",
       "    padding-left: 1em;\r\n",
       "}\r\n",
       "table td {\r\n",
       "    text-align: start;\r\n",
       "}\r\n",
       "table tr { \r\n",
       "    vertical-align: top; \r\n",
       "    margin: 0em 0px;\r\n",
       "}\r\n",
       "table tr td pre \r\n",
       "{ \r\n",
       "    vertical-align: top !important; \r\n",
       "    margin: 0em 0px !important;\r\n",
       "} \r\n",
       "table th {\r\n",
       "    text-align: start;\r\n",
       "}\r\n",
       "</style>"
      ]
     },
     "metadata": {},
     "output_type": "display_data"
    },
    {
     "data": {
      "text/plain": [
       "Wall time: 226.7501ms"
      ]
     },
     "metadata": {},
     "output_type": "display_data"
    }
   ],
   "source": [
    "#!time\n",
    "var path = findPathDesc(input, 'E', 'S');\n",
    "path.Count() - 1"
   ]
  },
  {
   "attachments": {},
   "cell_type": "markdown",
   "metadata": {
    "dotnet_interactive": {
     "language": "csharp"
    },
    "polyglot_notebook": {
     "kernelName": "csharp"
    }
   },
   "source": [
    "<h2 id=\"part2\">--- Part Two ---</h2><p>As you walk up the hill, you suspect that the Elves will want to turn this into a hiking trail. The beginning isn't very scenic, though; perhaps you can find a better starting point.</p>\n",
    "<p>To maximize exercise while hiking, the trail should start as low as possible: elevation <code>a</code>. The goal is still the square marked <code>E</code>. However, the trail should still be direct, taking the fewest steps to reach its goal. So, you'll need to find the shortest path from <em>any square at elevation <code>a</code></em> to the square marked <code>E</code>.</p>\n",
    "<p>Again consider the example from above:</p>\n",
    "<pre><code><em>S</em>abqponm\n",
    "abcryxxl\n",
    "accsz<em>E</em>xk\n",
    "acctuvwj\n",
    "abdefghi\n",
    "</code></pre>\n",
    "<p>Now, there are six choices for starting position (five marked <code>a</code>, plus the square marked <code>S</code> that counts as being at elevation <code>a</code>). If you start at the bottom-left square, you can reach the goal most quickly:</p>\n",
    "<pre><code>...v&lt;&lt;&lt;&lt;\n",
    "...vv&lt;&lt;^\n",
    "...v&gt;E^^\n",
    ".&gt;v&gt;&gt;&gt;^^\n",
    "&gt;^&gt;&gt;&gt;&gt;&gt;^\n",
    "</code></pre>\n",
    "<p>This path reaches the goal in only <code><em>29</em></code> steps, the fewest possible.</p>\n",
    "<p><em>What is the fewest steps required to move starting from any square with elevation <code>a</code> to the location that should get the best signal?</em></p>"
   ]
  },
  {
   "cell_type": "code",
   "execution_count": 14,
   "metadata": {
    "dotnet_interactive": {
     "language": "csharp"
    },
    "polyglot_notebook": {
     "kernelName": "csharp"
    },
    "vscode": {
     "languageId": "polyglot-notebook"
    }
   },
   "outputs": [
    {
     "data": {
      "text/html": [
       "<div class=\"dni-plaintext\"><pre>439</pre></div><style>\r\n",
       ".dni-code-hint {\r\n",
       "    font-style: italic;\r\n",
       "    overflow: hidden;\r\n",
       "    white-space: nowrap;\r\n",
       "}\r\n",
       ".dni-treeview {\r\n",
       "    white-space: nowrap;\r\n",
       "}\r\n",
       ".dni-treeview td {\r\n",
       "    vertical-align: top;\r\n",
       "    text-align: start;\r\n",
       "}\r\n",
       "details.dni-treeview {\r\n",
       "    padding-left: 1em;\r\n",
       "}\r\n",
       "table td {\r\n",
       "    text-align: start;\r\n",
       "}\r\n",
       "table tr { \r\n",
       "    vertical-align: top; \r\n",
       "    margin: 0em 0px;\r\n",
       "}\r\n",
       "table tr td pre \r\n",
       "{ \r\n",
       "    vertical-align: top !important; \r\n",
       "    margin: 0em 0px !important;\r\n",
       "} \r\n",
       "table th {\r\n",
       "    text-align: start;\r\n",
       "}\r\n",
       "</style>"
      ]
     },
     "metadata": {},
     "output_type": "display_data"
    },
    {
     "data": {
      "text/plain": [
       "Wall time: 179.002ms"
      ]
     },
     "metadata": {},
     "output_type": "display_data"
    }
   ],
   "source": [
    "#!time\n",
    "var pathA = findPathDesc(input, 'E', 'a');\n",
    "pathA.Count() - 1"
   ]
  }
 ],
 "metadata": {
  "kernelspec": {
   "display_name": ".NET (C#)",
   "language": "C#",
   "name": ".net-csharp"
  },
  "polyglot_notebook": {
   "kernelInfo": {
    "defaultKernelName": "csharp",
    "items": [
     {
      "aliases": [],
      "name": "csharp"
     }
    ]
   }
  }
 },
 "nbformat": 4,
 "nbformat_minor": 2
}
