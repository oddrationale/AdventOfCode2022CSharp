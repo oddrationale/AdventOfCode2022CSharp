{
 "cells": [
  {
   "cell_type": "markdown",
   "metadata": {},
   "source": [
    "[![Binder](https://mybinder.org/badge_logo.svg)](https://mybinder.org/v2/gh/oddrationale/AdventOfCode2022CSharp/main?urlpath=lab%2Ftree%2FDay07.ipynb)"
   ]
  },
  {
   "cell_type": "markdown",
   "metadata": {
    "dotnet_interactive": {
     "language": "csharp"
    }
   },
   "source": [
    "<h2>--- Day 7: No Space Left On Device ---</h2><p>You can hear birds chirping and raindrops hitting leaves as the expedition proceeds. Occasionally, you can even hear much louder sounds in the distance; how big do the animals get out here, anyway?</p>\n",
    "<p>The device the Elves gave you has problems with more than just its communication system. You try to run a system update:</p>\n",
    "<pre><code>$ system-update --please --pretty-please-with-sugar-on-top\n",
    "<span title=\"E099 PROGRAMMER IS OVERLY POLITE\">Error</span>: No space left on device\n",
    "</code></pre>\n",
    "<p>Perhaps you can delete some files to make space for the update?</p>\n",
    "<p>You browse around the filesystem to assess the situation and save the resulting terminal output (your puzzle input). For example:</p>\n",
    "<pre><code>$ cd /\n",
    "$ ls\n",
    "dir a\n",
    "14848514 b.txt\n",
    "8504156 c.dat\n",
    "dir d\n",
    "$ cd a\n",
    "$ ls\n",
    "dir e\n",
    "29116 f\n",
    "2557 g\n",
    "62596 h.lst\n",
    "$ cd e\n",
    "$ ls\n",
    "584 i\n",
    "$ cd ..\n",
    "$ cd ..\n",
    "$ cd d\n",
    "$ ls\n",
    "4060174 j\n",
    "8033020 d.log\n",
    "5626152 d.ext\n",
    "7214296 k\n",
    "</code></pre>\n",
    "<p>The filesystem consists of a tree of files (plain data) and directories (which can contain other directories or files). The outermost directory is called <code>/</code>. You can navigate around the filesystem, moving into or out of directories and listing the contents of the directory you're currently in.</p>\n",
    "<p>Within the terminal output, lines that begin with <code>$</code> are <em>commands you executed</em>, very much like some modern computers:</p>\n",
    "<ul>\n",
    "<li><code>cd</code> means <em>change directory</em>. This changes which directory is the current directory, but the specific result depends on the argument:\n",
    "  <ul>\n",
    "  <li><code>cd x</code> moves <em>in</em> one level: it looks in the current directory for the directory named <code>x</code> and makes it the current directory.</li>\n",
    "  <li><code>cd ..</code> moves <em>out</em> one level: it finds the directory that contains the current directory, then makes that directory the current directory.</li>\n",
    "  <li><code>cd /</code> switches the current directory to the outermost directory, <code>/</code>.</li>\n",
    "  </ul>\n",
    "</li>\n",
    "<li><code>ls</code> means <em>list</em>. It prints out all of the files and directories immediately contained by the current directory:\n",
    "  <ul>\n",
    "  <li><code>123 abc</code> means that the current directory contains a file named <code>abc</code> with size <code>123</code>.</li>\n",
    "  <li><code>dir xyz</code> means that the current directory contains a directory named <code>xyz</code>.</li>\n",
    "  </ul>\n",
    "</li>\n",
    "</ul>\n",
    "<p>Given the commands and output in the example above, you can determine that the filesystem looks visually like this:</p>\n",
    "<pre><code>- / (dir)\n",
    "  - a (dir)\n",
    "    - e (dir)\n",
    "      - i (file, size=584)\n",
    "    - f (file, size=29116)\n",
    "    - g (file, size=2557)\n",
    "    - h.lst (file, size=62596)\n",
    "  - b.txt (file, size=14848514)\n",
    "  - c.dat (file, size=8504156)\n",
    "  - d (dir)\n",
    "    - j (file, size=4060174)\n",
    "    - d.log (file, size=8033020)\n",
    "    - d.ext (file, size=5626152)\n",
    "    - k (file, size=7214296)\n",
    "</code></pre>\n",
    "<p>Here, there are four directories: <code>/</code> (the outermost directory), <code>a</code> and <code>d</code> (which are in <code>/</code>), and <code>e</code> (which is in <code>a</code>). These directories also contain files of various sizes.</p>\n",
    "<p>Since the disk is full, your first step should probably be to find directories that are good candidates for deletion. To do this, you need to determine the <em>total size</em> of each directory. The total size of a directory is the sum of the sizes of the files it contains, directly or indirectly. (Directories themselves do not count as having any intrinsic size.)</p>\n",
    "<p>The total sizes of the directories above can be found as follows:</p>\n",
    "<ul>\n",
    "<li>The total size of directory <code>e</code> is <em>584</em> because it contains a single file <code>i</code> of size 584 and no other directories.</li>\n",
    "<li>The directory <code>a</code> has total size <em>94853</em> because it contains files <code>f</code> (size 29116), <code>g</code> (size 2557), and <code>h.lst</code> (size 62596), plus file <code>i</code> indirectly (<code>a</code> contains <code>e</code> which contains <code>i</code>).</li>\n",
    "<li>Directory <code>d</code> has total size <em>24933642</em>.</li>\n",
    "<li>As the outermost directory, <code>/</code> contains every file. Its total size is <em>48381165</em>, the sum of the size of every file.</li>\n",
    "</ul>\n",
    "<p>To begin, find all of the directories with a total size of <em>at most 100000</em>, then calculate the sum of their total sizes. In the example above, these directories are <code>a</code> and <code>e</code>; the sum of their total sizes is <code><em>95437</em></code> (94853 + 584). (As in this example, this process can count files more than once!)</p>\n",
    "<p>Find all of the directories with a total size of at most 100000. <em>What is the sum of the total sizes of those directories?</em></p>"
   ]
  },
  {
   "cell_type": "code",
   "execution_count": 8,
   "metadata": {
    "dotnet_interactive": {
     "language": "csharp"
    },
    "vscode": {
     "languageId": "dotnet-interactive.csharp"
    }
   },
   "outputs": [],
   "source": [
    "using System.IO;"
   ]
  },
  {
   "cell_type": "code",
   "execution_count": 9,
   "metadata": {
    "dotnet_interactive": {
     "language": "csharp"
    },
    "vscode": {
     "languageId": "dotnet-interactive.csharp"
    }
   },
   "outputs": [],
   "source": [
    "var input = System.IO.File.ReadAllLines(\"input/07.txt\");"
   ]
  },
  {
   "cell_type": "code",
   "execution_count": 10,
   "metadata": {
    "dotnet_interactive": {
     "language": "csharp"
    },
    "vscode": {
     "languageId": "dotnet-interactive.csharp"
    }
   },
   "outputs": [],
   "source": [
    "record Child(string Name);\n",
    "record File(string Name, long Size) : Child(Name);\n",
    "record Directory(\n",
    "    string Name, \n",
    "    Directory Parent, \n",
    "    Dictionary<string, Child> Children) : Child(Name);"
   ]
  },
  {
   "cell_type": "code",
   "execution_count": 11,
   "metadata": {
    "dotnet_interactive": {
     "language": "csharp"
    },
    "vscode": {
     "languageId": "dotnet-interactive.csharp"
    }
   },
   "outputs": [],
   "source": [
    "void parseTerminalOutput(Directory root, string[] input)\n",
    "{\n",
    "    var cd = root;\n",
    "    foreach (var line in input)\n",
    "    {\n",
    "        if (line.StartsWith(@\"$ cd /\"))\n",
    "        {\n",
    "            cd = root;\n",
    "        }\n",
    "        else if (line.StartsWith(@\"$ cd ..\"))\n",
    "        {\n",
    "            cd = cd.Parent;\n",
    "        }\n",
    "        else if (line.StartsWith(@\"$ cd \"))\n",
    "        {\n",
    "            var name = line.Split(\" \").Last().Trim();\n",
    "            cd = (Directory)cd.Children[name];\n",
    "        }\n",
    "        else if (line.StartsWith(\"dir\"))\n",
    "        {\n",
    "            var name = line.Split(\" \").Last().Trim();\n",
    "            cd.Children[name] = new Directory(name, cd, new Dictionary<string, Child>());\n",
    "        }\n",
    "        else if (Char.IsNumber(line[0]))\n",
    "        {\n",
    "            var split = line.Split(\" \");\n",
    "            var size = long.Parse(split.First().Trim());\n",
    "            var name = split.Last().Trim();\n",
    "            cd.Children[name] = new File(name, size);\n",
    "        }\n",
    "    }\n",
    "}"
   ]
  },
  {
   "cell_type": "code",
   "execution_count": 12,
   "metadata": {
    "dotnet_interactive": {
     "language": "csharp"
    },
    "vscode": {
     "languageId": "dotnet-interactive.csharp"
    }
   },
   "outputs": [],
   "source": [
    "void calcDirectorySizes(Directory dir, Dictionary<Directory, long> sizes)\n",
    "{\n",
    "    long size = 0;\n",
    "    foreach (var child in dir.Children)\n",
    "    {\n",
    "        if (child.Value is File f)\n",
    "        {\n",
    "            size += f.Size;\n",
    "        }\n",
    "        else if (child.Value is Directory d)\n",
    "        {\n",
    "            calcDirectorySizes(d, sizes);\n",
    "            size += sizes[d];\n",
    "        }\n",
    "    }\n",
    "    sizes[dir] = size;\n",
    "}"
   ]
  },
  {
   "cell_type": "code",
   "execution_count": 13,
   "metadata": {
    "dotnet_interactive": {
     "language": "csharp"
    },
    "vscode": {
     "languageId": "dotnet-interactive.csharp"
    }
   },
   "outputs": [
    {
     "data": {
      "text/html": [
       "<div class=\"dni-plaintext\">1350966</div>"
      ]
     },
     "metadata": {},
     "output_type": "display_data"
    },
    {
     "data": {
      "text/plain": [
       "Wall time: 168.3076ms"
      ]
     },
     "metadata": {},
     "output_type": "display_data"
    }
   ],
   "source": [
    "#!time\n",
    "var root = new Directory(\"/\", null, new Dictionary<string, Child>());\n",
    "parseTerminalOutput(root, input);\n",
    "\n",
    "var sizes = new Dictionary<Directory, long>();\n",
    "calcDirectorySizes(root, sizes);\n",
    "\n",
    "sizes.Values\n",
    "    .Where(size => size <= 100_000)\n",
    "    .Sum()"
   ]
  },
  {
   "cell_type": "markdown",
   "metadata": {
    "dotnet_interactive": {
     "language": "csharp"
    }
   },
   "source": [
    "<h2 id=\"part2\">--- Part Two ---</h2><p>Now, you're ready to choose a directory to delete.</p>\n",
    "<p>The total disk space available to the filesystem is <code><em>70000000</em></code>. To run the update, you need unused space of at least <code><em>30000000</em></code>. You need to find a directory you can delete that will <em>free up enough space</em> to run the update.</p>\n",
    "<p>In the example above, the total size of the outermost directory (and thus the total amount of used space) is <code>48381165</code>; this means that the size of the <em>unused</em> space must currently be <code>21618835</code>, which isn't quite the <code>30000000</code> required by the update. Therefore, the update still requires a directory with total size of at least <code>8381165</code> to be deleted before it can run.</p>\n",
    "<p>To achieve this, you have the following options:</p>\n",
    "<ul>\n",
    "<li>Delete directory <code>e</code>, which would increase unused space by <code>584</code>.</li>\n",
    "<li>Delete directory <code>a</code>, which would increase unused space by <code>94853</code>.</li>\n",
    "<li>Delete directory <code>d</code>, which would increase unused space by <code>24933642</code>.</li>\n",
    "<li>Delete directory <code>/</code>, which would increase unused space by <code>48381165</code>.</li>\n",
    "</ul>\n",
    "<p>Directories <code>e</code> and <code>a</code> are both too small; deleting them would not free up enough space. However, directories <code>d</code> and <code>/</code> are both big enough! Between these, choose the <em>smallest</em>: <code>d</code>, increasing unused space by <code><em>24933642</em></code>.</p>\n",
    "<p>Find the smallest directory that, if deleted, would free up enough space on the filesystem to run the update. <em>What is the total size of that directory?</em></p>"
   ]
  },
  {
   "cell_type": "code",
   "execution_count": 14,
   "metadata": {
    "dotnet_interactive": {
     "language": "csharp"
    },
    "vscode": {
     "languageId": "dotnet-interactive.csharp"
    }
   },
   "outputs": [
    {
     "data": {
      "text/html": [
       "<div class=\"dni-plaintext\">6296435</div>"
      ]
     },
     "metadata": {},
     "output_type": "display_data"
    },
    {
     "data": {
      "text/plain": [
       "Wall time: 84.8729ms"
      ]
     },
     "metadata": {},
     "output_type": "display_data"
    }
   ],
   "source": [
    "#!time\n",
    "sizes.Values\n",
    "    .Where(size => size >= sizes[root] - 40_000_000)\n",
    "    .Min()"
   ]
  }
 ],
 "metadata": {
  "kernelspec": {
   "display_name": ".NET (C#)",
   "language": "C#",
   "name": ".net-csharp"
  },
  "language_info": {
   "file_extension": ".cs",
   "mimetype": "text/x-csharp",
   "name": "C#",
   "pygments_lexer": "csharp",
   "version": "9.0"
  }
 },
 "nbformat": 4,
 "nbformat_minor": 2
}
