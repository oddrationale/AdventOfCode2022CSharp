{
 "cells": [
  {
   "attachments": {},
   "cell_type": "markdown",
   "metadata": {
    "dotnet_interactive": {
     "language": "csharp"
    },
    "polyglot_notebook": {
     "kernelName": "csharp"
    }
   },
   "source": [
    "[![Binder](https://mybinder.org/badge_logo.svg)](https://mybinder.org/v2/gh/oddrationale/AdventOfCode2022CSharp/main?urlpath=lab%2Ftree%2FDay11.ipynb)"
   ]
  },
  {
   "attachments": {},
   "cell_type": "markdown",
   "metadata": {
    "dotnet_interactive": {
     "language": "csharp"
    },
    "polyglot_notebook": {
     "kernelName": "csharp"
    }
   },
   "source": [
    "<h2>--- Day 11: Monkey in the Middle ---</h2><p>As you finally start making your way upriver, you realize your pack is much lighter than you remember. Just then, one of the items from your pack goes flying overhead. Monkeys are playing <a href=\"https://en.wikipedia.org/wiki/Keep_away\" target=\"_blank\">Keep Away</a> with your missing things!</p>\n",
    "<p>To get your stuff back, you need to be able to predict where the monkeys will throw your items. After some careful observation, you realize the monkeys operate based on <em>how worried you are about each item</em>.</p>\n",
    "<p>You take some notes (your puzzle input) on the items each monkey currently has, how worried you are about those items, and how the monkey makes decisions based on your worry level. For example:</p>\n",
    "<pre><code>Monkey 0:\n",
    "  Starting items: 79, 98\n",
    "  Operation: new = old * 19\n",
    "  Test: divisible by 23\n",
    "    If true: throw to monkey 2\n",
    "    If false: throw to monkey 3\n",
    "\n",
    "Monkey 1:\n",
    "  Starting items: 54, 65, 75, 74\n",
    "  Operation: new = old + 6\n",
    "  Test: divisible by 19\n",
    "    If true: throw to monkey 2\n",
    "    If false: throw to monkey 0\n",
    "\n",
    "Monkey 2:\n",
    "  Starting items: 79, 60, 97\n",
    "  Operation: new = old * old\n",
    "  Test: divisible by 13\n",
    "    If true: throw to monkey 1\n",
    "    If false: throw to monkey 3\n",
    "\n",
    "Monkey 3:\n",
    "  Starting items: 74\n",
    "  Operation: new = old + 3\n",
    "  Test: divisible by 17\n",
    "    If true: throw to monkey 0\n",
    "    If false: throw to monkey 1\n",
    "</code></pre>\n",
    "<p>Each monkey has several attributes:</p>\n",
    "<ul>\n",
    "<li><code>Starting items</code> lists your <em>worry level</em> for each item the monkey is currently holding in the order they will be inspected.</li>\n",
    "<li><code>Operation</code> shows how your worry level changes as that monkey inspects an item. (An operation like <code>new = old * 5</code> means that your worry level after the monkey inspected the item is five times whatever your worry level was before inspection.)</li>\n",
    "<li><code>Test</code> shows how the monkey uses your worry level to decide where to throw an item next.\n",
    "  <ul>\n",
    "  <li><code>If true</code> shows what happens with an item if the <code>Test</code> was true.</li>\n",
    "  <li><code>If false</code> shows what happens with an item if the <code>Test</code> was false.</li>\n",
    "  </ul>\n",
    "</li>\n",
    "</ul>\n",
    "<p>After each monkey inspects an item but before it tests your worry level, your relief that the monkey's inspection didn't damage the item causes your worry level to be <em>divided by three</em> and rounded down to the nearest integer.</p>\n",
    "<p>The monkeys take turns inspecting and throwing items. On a single monkey's <em>turn</em>, it inspects and throws all of the items it is holding one at a time and in the order listed. Monkey <code>0</code> goes first, then monkey <code>1</code>, and so on until each monkey has had one turn. The process of each monkey taking a single turn is called a <em>round</em>.</p>\n",
    "<p>When a monkey throws an item to another monkey, the item goes on the <em>end</em> of the recipient monkey's list. A monkey that starts a round with no items could end up inspecting and throwing many items by the time its turn comes around. If a monkey is holding no items at the start of its turn, its turn ends.</p>\n",
    "<p>In the above example, the first round proceeds as follows:</p>\n",
    "<pre><code>Monkey 0:\n",
    "  Monkey inspects an item with a worry level of 79.\n",
    "    Worry level is multiplied by 19 to 1501.\n",
    "    Monkey gets bored with item. Worry level is divided by 3 to 500.\n",
    "    Current worry level is not divisible by 23.\n",
    "    Item with worry level 500 is thrown to monkey 3.\n",
    "  Monkey inspects an item with a worry level of 98.\n",
    "    Worry level is multiplied by 19 to 1862.\n",
    "    Monkey gets bored with item. Worry level is divided by 3 to 620.\n",
    "    Current worry level is not divisible by 23.\n",
    "    Item with worry level 620 is thrown to monkey 3.\n",
    "Monkey 1:\n",
    "  Monkey inspects an item with a worry level of 54.\n",
    "    Worry level increases by 6 to 60.\n",
    "    Monkey gets bored with item. Worry level is divided by 3 to 20.\n",
    "    Current worry level is not divisible by 19.\n",
    "    Item with worry level 20 is thrown to monkey 0.\n",
    "  Monkey inspects an item with a worry level of 65.\n",
    "    Worry level increases by 6 to 71.\n",
    "    Monkey gets bored with item. Worry level is divided by 3 to 23.\n",
    "    Current worry level is not divisible by 19.\n",
    "    Item with worry level 23 is thrown to monkey 0.\n",
    "  Monkey inspects an item with a worry level of 75.\n",
    "    Worry level increases by 6 to 81.\n",
    "    Monkey gets bored with item. Worry level is divided by 3 to 27.\n",
    "    Current worry level is not divisible by 19.\n",
    "    Item with worry level 27 is thrown to monkey 0.\n",
    "  Monkey inspects an item with a worry level of 74.\n",
    "    Worry level increases by 6 to 80.\n",
    "    Monkey gets bored with item. Worry level is divided by 3 to 26.\n",
    "    Current worry level is not divisible by 19.\n",
    "    Item with worry level 26 is thrown to monkey 0.\n",
    "Monkey 2:\n",
    "  Monkey inspects an item with a worry level of 79.\n",
    "    Worry level is multiplied by itself to 6241.\n",
    "    Monkey gets bored with item. Worry level is divided by 3 to 2080.\n",
    "    Current worry level is divisible by 13.\n",
    "    Item with worry level 2080 is thrown to monkey 1.\n",
    "  Monkey inspects an item with a worry level of 60.\n",
    "    Worry level is multiplied by itself to 3600.\n",
    "    Monkey gets bored with item. Worry level is divided by 3 to 1200.\n",
    "    Current worry level is not divisible by 13.\n",
    "    Item with worry level 1200 is thrown to monkey 3.\n",
    "  Monkey inspects an item with a worry level of 97.\n",
    "    Worry level is multiplied by itself to 9409.\n",
    "    Monkey gets bored with item. Worry level is divided by 3 to 3136.\n",
    "    Current worry level is not divisible by 13.\n",
    "    Item with worry level 3136 is thrown to monkey 3.\n",
    "Monkey 3:\n",
    "  Monkey inspects an item with a worry level of 74.\n",
    "    Worry level increases by 3 to 77.\n",
    "    Monkey gets bored with item. Worry level is divided by 3 to 25.\n",
    "    Current worry level is not divisible by 17.\n",
    "    Item with worry level 25 is thrown to monkey 1.\n",
    "  Monkey inspects an item with a worry level of 500.\n",
    "    Worry level increases by 3 to 503.\n",
    "    Monkey gets bored with item. Worry level is divided by 3 to 167.\n",
    "    Current worry level is not divisible by 17.\n",
    "    Item with worry level 167 is thrown to monkey 1.\n",
    "  Monkey inspects an item with a worry level of 620.\n",
    "    Worry level increases by 3 to 623.\n",
    "    Monkey gets bored with item. Worry level is divided by 3 to 207.\n",
    "    Current worry level is not divisible by 17.\n",
    "    Item with worry level 207 is thrown to monkey 1.\n",
    "  Monkey inspects an item with a worry level of 1200.\n",
    "    Worry level increases by 3 to 1203.\n",
    "    Monkey gets bored with item. Worry level is divided by 3 to 401.\n",
    "    Current worry level is not divisible by 17.\n",
    "    Item with worry level 401 is thrown to monkey 1.\n",
    "  Monkey inspects an item with a worry level of 3136.\n",
    "    Worry level increases by 3 to 3139.\n",
    "    Monkey gets bored with item. Worry level is divided by 3 to 1046.\n",
    "    Current worry level is not divisible by 17.\n",
    "    Item with worry level 1046 is thrown to monkey 1.\n",
    "</code></pre>\n",
    "<p>After round 1, the monkeys are holding items with these worry levels:</p>\n",
    "<pre><code>Monkey 0: 20, 23, 27, 26\n",
    "Monkey 1: 2080, 25, 167, 207, 401, 1046\n",
    "Monkey 2: \n",
    "Monkey 3: \n",
    "</code></pre>\n",
    "<p>Monkeys 2 and 3 aren't holding any items at the end of the round; they both inspected items during the round and threw them all before the round ended.</p>\n",
    "<p>This process continues for a few more rounds:</p>\n",
    "<pre><code>After round 2, the monkeys are holding items with these worry levels:\n",
    "Monkey 0: 695, 10, 71, 135, 350\n",
    "Monkey 1: 43, 49, 58, 55, 362\n",
    "Monkey 2: \n",
    "Monkey 3: \n",
    "\n",
    "After round 3, the monkeys are holding items with these worry levels:\n",
    "Monkey 0: 16, 18, 21, 20, 122\n",
    "Monkey 1: 1468, 22, 150, 286, 739\n",
    "Monkey 2: \n",
    "Monkey 3: \n",
    "\n",
    "After round 4, the monkeys are holding items with these worry levels:\n",
    "Monkey 0: 491, 9, 52, 97, 248, 34\n",
    "Monkey 1: 39, 45, 43, 258\n",
    "Monkey 2: \n",
    "Monkey 3: \n",
    "\n",
    "After round 5, the monkeys are holding items with these worry levels:\n",
    "Monkey 0: 15, 17, 16, 88, 1037\n",
    "Monkey 1: 20, 110, 205, 524, 72\n",
    "Monkey 2: \n",
    "Monkey 3: \n",
    "\n",
    "After round 6, the monkeys are holding items with these worry levels:\n",
    "Monkey 0: 8, 70, 176, 26, 34\n",
    "Monkey 1: 481, 32, 36, 186, 2190\n",
    "Monkey 2: \n",
    "Monkey 3: \n",
    "\n",
    "After round 7, the monkeys are holding items with these worry levels:\n",
    "Monkey 0: 162, 12, 14, 64, 732, 17\n",
    "Monkey 1: 148, 372, 55, 72\n",
    "Monkey 2: \n",
    "Monkey 3: \n",
    "\n",
    "After round 8, the monkeys are holding items with these worry levels:\n",
    "Monkey 0: 51, 126, 20, 26, 136\n",
    "Monkey 1: 343, 26, 30, 1546, 36\n",
    "Monkey 2: \n",
    "Monkey 3: \n",
    "\n",
    "After round 9, the monkeys are holding items with these worry levels:\n",
    "Monkey 0: 116, 10, 12, 517, 14\n",
    "Monkey 1: 108, 267, 43, 55, 288\n",
    "Monkey 2: \n",
    "Monkey 3: \n",
    "\n",
    "After round 10, the monkeys are holding items with these worry levels:\n",
    "Monkey 0: 91, 16, 20, 98\n",
    "Monkey 1: 481, 245, 22, 26, 1092, 30\n",
    "Monkey 2: \n",
    "Monkey 3: \n",
    "\n",
    "...\n",
    "\n",
    "After round 15, the monkeys are holding items with these worry levels:\n",
    "Monkey 0: 83, 44, 8, 184, 9, 20, 26, 102\n",
    "Monkey 1: 110, 36\n",
    "Monkey 2: \n",
    "Monkey 3: \n",
    "\n",
    "...\n",
    "\n",
    "After round 20, the monkeys are holding items with these worry levels:\n",
    "Monkey 0: 10, 12, 14, 26, 34\n",
    "Monkey 1: 245, 93, 53, 199, 115\n",
    "Monkey 2: \n",
    "Monkey 3: \n",
    "</code></pre>\n",
    "<p>Chasing all of the monkeys at once is impossible; you're going to have to focus on the <em>two most active</em> monkeys if you want any hope of getting your stuff back. Count the <em>total number of times each monkey inspects items</em> over 20 rounds:</p>\n",
    "<pre><code><em>Monkey 0 inspected items 101 times.</em>\n",
    "Monkey 1 inspected items 95 times.\n",
    "Monkey 2 inspected items 7 times.\n",
    "<em>Monkey 3 inspected items 105 times.</em>\n",
    "</code></pre>\n",
    "<p>In this example, the two most active monkeys inspected items 101 and 105 times. The level of <em>monkey business</em> in this situation can be found by multiplying these together: <code><em>10605</em></code>.</p>\n",
    "<p>Figure out which monkeys to chase by counting how many items they inspect over 20 rounds. <em>What is the level of monkey business after 20 rounds of stuff-slinging simian shenanigans?</em></p>"
   ]
  },
  {
   "cell_type": "code",
   "execution_count": 7,
   "metadata": {
    "dotnet_interactive": {
     "language": "csharp"
    },
    "polyglot_notebook": {
     "kernelName": "csharp"
    },
    "vscode": {
     "languageId": "polyglot-notebook"
    }
   },
   "outputs": [],
   "source": [
    "using System.IO;\n",
    "using System.Text.RegularExpressions;"
   ]
  },
  {
   "cell_type": "code",
   "execution_count": 8,
   "metadata": {
    "dotnet_interactive": {
     "language": "csharp"
    },
    "polyglot_notebook": {
     "kernelName": "csharp"
    },
    "vscode": {
     "languageId": "polyglot-notebook"
    }
   },
   "outputs": [],
   "source": [
    "var input = File.ReadAllText(\"input/11.txt\");"
   ]
  },
  {
   "cell_type": "code",
   "execution_count": 9,
   "metadata": {
    "dotnet_interactive": {
     "language": "csharp"
    },
    "polyglot_notebook": {
     "kernelName": "csharp"
    },
    "vscode": {
     "languageId": "polyglot-notebook"
    }
   },
   "outputs": [],
   "source": [
    "class Monkey\n",
    "{\n",
    "    private Func<long, long> Operation;\n",
    "    private int Monkey1Index;\n",
    "    private int Monkey2Index;\n",
    "    private Monkey Monkey1;\n",
    "    private Monkey Monkey2;\n",
    "    \n",
    "    public Queue<long> Items { get; }\n",
    "    public int DivisibleTest;\n",
    "    public long NoOfInspections { get; set; } = 0;\n",
    "\n",
    "    public Monkey(long[] items, Func<long, long> operation, int test, int m1, int m2)\n",
    "    {\n",
    "        Items = new Queue<long>(items);\n",
    "        Operation = operation;\n",
    "        DivisibleTest = test;\n",
    "        Monkey1Index = m1;\n",
    "        Monkey2Index = m2;\n",
    "    }\n",
    "\n",
    "    public static Monkey Parse(string input)\n",
    "    {\n",
    "        var startingItemsStr = Regex.Match(input, @\"Starting items: (.*?)$\", RegexOptions.Multiline).Groups[1].Value;\n",
    "        var operationStr = Regex.Match(input, @\"Operation: new = (.*?)$\", RegexOptions.Multiline).Groups[1].Value;\n",
    "        var testStr = Regex.Match(input, @\"Test: divisible by (.*?)$\", RegexOptions.Multiline).Groups[1].Value;\n",
    "        var m1Str = Regex.Match(input, @\"If true: throw to monkey (.*?)$\", RegexOptions.Multiline).Groups[1].Value;\n",
    "        var m2Str = Regex.Match(input, @\"If false: throw to monkey (.*?)$\", RegexOptions.Multiline).Groups[1].Value;\n",
    "\n",
    "        var items = startingItemsStr.Split(\",\").Select(long.Parse).ToArray();\n",
    "        var operationSplit = operationStr.Split(\" \");\n",
    "        Func<long, long> operation = (operationSplit[1], operationSplit[2]) switch\n",
    "        {\n",
    "            (\"*\", \"old\") => (old) => old * old,\n",
    "            (\"+\", \"old\") => (old) => old + old,\n",
    "            (\"*\", _) => (old) => old * int.Parse(operationSplit[2]),\n",
    "            (\"+\", _) => (old) => old + int.Parse(operationSplit[2]),\n",
    "            _ => (old) => 0,\n",
    "        };\n",
    "        var test = int.Parse(testStr);\n",
    "        var m1 = int.Parse(m1Str);\n",
    "        var m2 = int.Parse(m2Str);\n",
    "        \n",
    "        return new Monkey(items, operation, test, m1, m2);\n",
    "    }\n",
    "\n",
    "    public void SetNextMonkeys(Monkey[] monkeys)\n",
    "    {\n",
    "        Monkey1 = monkeys[Monkey1Index];\n",
    "        Monkey2 = monkeys[Monkey2Index];\n",
    "    }\n",
    "\n",
    "    public void DoTurn(bool isWorried = false, long factor = 1)\n",
    "    {\n",
    "        while (Items.Count > 0)\n",
    "        {\n",
    "            long worryLevel = Items.Dequeue();\n",
    "            worryLevel = Operation(worryLevel);\n",
    "            if (!isWorried)\n",
    "            {\n",
    "                worryLevel = (long)Math.Floor(worryLevel / 3.0);\n",
    "            }\n",
    "            else\n",
    "            {\n",
    "                worryLevel = worryLevel % factor;\n",
    "            }\n",
    "\n",
    "            if (worryLevel % DivisibleTest == 0)\n",
    "            {\n",
    "                Monkey1.Items.Enqueue(worryLevel);\n",
    "            }\n",
    "            else\n",
    "            {\n",
    "                Monkey2.Items.Enqueue(worryLevel);\n",
    "            }\n",
    "            \n",
    "            NoOfInspections++;\n",
    "        }\n",
    "    }\n",
    "}"
   ]
  },
  {
   "cell_type": "code",
   "execution_count": 10,
   "metadata": {
    "dotnet_interactive": {
     "language": "csharp"
    },
    "polyglot_notebook": {
     "kernelName": "csharp"
    },
    "vscode": {
     "languageId": "polyglot-notebook"
    }
   },
   "outputs": [
    {
     "data": {
      "text/html": [
       "<div class=\"dni-plaintext\"><pre>57838</pre></div><style>\r\n",
       ".dni-code-hint {\r\n",
       "    font-style: italic;\r\n",
       "    overflow: hidden;\r\n",
       "    white-space: nowrap;\r\n",
       "}\r\n",
       ".dni-treeview {\r\n",
       "    white-space: nowrap;\r\n",
       "}\r\n",
       ".dni-treeview td {\r\n",
       "    vertical-align: top;\r\n",
       "    text-align: start;\r\n",
       "}\r\n",
       "details.dni-treeview {\r\n",
       "    padding-left: 1em;\r\n",
       "}\r\n",
       "table td {\r\n",
       "    text-align: start;\r\n",
       "}\r\n",
       "table tr { \r\n",
       "    vertical-align: top; \r\n",
       "    margin: 0em 0px;\r\n",
       "}\r\n",
       "table tr td pre \r\n",
       "{ \r\n",
       "    vertical-align: top !important; \r\n",
       "    margin: 0em 0px !important;\r\n",
       "} \r\n",
       "table th {\r\n",
       "    text-align: start;\r\n",
       "}\r\n",
       "</style>"
      ]
     },
     "metadata": {},
     "output_type": "display_data"
    },
    {
     "data": {
      "text/plain": [
       "Wall time: 44.5963ms"
      ]
     },
     "metadata": {},
     "output_type": "display_data"
    }
   ],
   "source": [
    "#!time\n",
    "var monkeys = input.Split(\"\\n\\n\").Select(Monkey.Parse).ToArray();\n",
    "\n",
    "foreach (var monkey in monkeys)\n",
    "{\n",
    "    monkey.SetNextMonkeys(monkeys);\n",
    "}\n",
    "\n",
    "for (var i = 0; i < 20; i++)\n",
    "{\n",
    "    foreach (var monkey in monkeys)\n",
    "    {\n",
    "        monkey.DoTurn();\n",
    "    }\n",
    "}\n",
    "\n",
    "monkeys\n",
    "    .Select(m => m.NoOfInspections)\n",
    "    .OrderByDescending(x => x)\n",
    "    .Take(2)\n",
    "    .Aggregate((x, y) => x * y)"
   ]
  },
  {
   "attachments": {},
   "cell_type": "markdown",
   "metadata": {
    "dotnet_interactive": {
     "language": "csharp"
    },
    "polyglot_notebook": {
     "kernelName": "csharp"
    }
   },
   "source": [
    "<h2 id=\"part2\">--- Part Two ---</h2><p>You're worried you might not ever get your items back. So worried, in fact, that your relief that a monkey's inspection didn't damage an item <em>no longer causes your worry level to be divided by three</em>.</p>\n",
    "<p>Unfortunately, that relief was all that was keeping your worry levels from reaching <em>ridiculous levels</em>. You'll need to <em>find another way to keep your worry levels manageable</em>.</p>\n",
    "<p>At this rate, you might be putting up with these monkeys for a <em>very long time</em> - possibly <em><code>10000</code> rounds</em>!</p>\n",
    "<p>With these new rules, you can still figure out the <span title=\"Monkey business monkey business monkey business, monkey numbers... is this working?\">monkey business</span> after 10000 rounds. Using the same example above:</p>\n",
    "<pre><code>== After round 1 ==\n",
    "Monkey 0 inspected items 2 times.\n",
    "Monkey 1 inspected items 4 times.\n",
    "Monkey 2 inspected items 3 times.\n",
    "Monkey 3 inspected items 6 times.\n",
    "\n",
    "== After round 20 ==\n",
    "Monkey 0 inspected items 99 times.\n",
    "Monkey 1 inspected items 97 times.\n",
    "Monkey 2 inspected items 8 times.\n",
    "Monkey 3 inspected items 103 times.\n",
    "\n",
    "== After round 1000 ==\n",
    "Monkey 0 inspected items 5204 times.\n",
    "Monkey 1 inspected items 4792 times.\n",
    "Monkey 2 inspected items 199 times.\n",
    "Monkey 3 inspected items 5192 times.\n",
    "\n",
    "== After round 2000 ==\n",
    "Monkey 0 inspected items 10419 times.\n",
    "Monkey 1 inspected items 9577 times.\n",
    "Monkey 2 inspected items 392 times.\n",
    "Monkey 3 inspected items 10391 times.\n",
    "\n",
    "== After round 3000 ==\n",
    "Monkey 0 inspected items 15638 times.\n",
    "Monkey 1 inspected items 14358 times.\n",
    "Monkey 2 inspected items 587 times.\n",
    "Monkey 3 inspected items 15593 times.\n",
    "\n",
    "== After round 4000 ==\n",
    "Monkey 0 inspected items 20858 times.\n",
    "Monkey 1 inspected items 19138 times.\n",
    "Monkey 2 inspected items 780 times.\n",
    "Monkey 3 inspected items 20797 times.\n",
    "\n",
    "== After round 5000 ==\n",
    "Monkey 0 inspected items 26075 times.\n",
    "Monkey 1 inspected items 23921 times.\n",
    "Monkey 2 inspected items 974 times.\n",
    "Monkey 3 inspected items 26000 times.\n",
    "\n",
    "== After round 6000 ==\n",
    "Monkey 0 inspected items 31294 times.\n",
    "Monkey 1 inspected items 28702 times.\n",
    "Monkey 2 inspected items 1165 times.\n",
    "Monkey 3 inspected items 31204 times.\n",
    "\n",
    "== After round 7000 ==\n",
    "Monkey 0 inspected items 36508 times.\n",
    "Monkey 1 inspected items 33488 times.\n",
    "Monkey 2 inspected items 1360 times.\n",
    "Monkey 3 inspected items 36400 times.\n",
    "\n",
    "== After round 8000 ==\n",
    "Monkey 0 inspected items 41728 times.\n",
    "Monkey 1 inspected items 38268 times.\n",
    "Monkey 2 inspected items 1553 times.\n",
    "Monkey 3 inspected items 41606 times.\n",
    "\n",
    "== After round 9000 ==\n",
    "Monkey 0 inspected items 46945 times.\n",
    "Monkey 1 inspected items 43051 times.\n",
    "Monkey 2 inspected items 1746 times.\n",
    "Monkey 3 inspected items 46807 times.\n",
    "\n",
    "== After round 10000 ==\n",
    "<em>Monkey 0 inspected items 52166 times.</em>\n",
    "Monkey 1 inspected items 47830 times.\n",
    "Monkey 2 inspected items 1938 times.\n",
    "<em>Monkey 3 inspected items 52013 times.</em>\n",
    "</code></pre>\n",
    "<p>After 10000 rounds, the two most active monkeys inspected items 52166 and 52013 times. Multiplying these together, the level of <em>monkey business</em> in this situation is now <code><em>2713310158</em></code>.</p>\n",
    "<p>Worry levels are no longer divided by three after each item is inspected; you'll need to find another way to keep your worry levels manageable. Starting again from the initial state in your puzzle input, <em>what is the level of monkey business after 10000 rounds?</em></p>"
   ]
  },
  {
   "cell_type": "code",
   "execution_count": 11,
   "metadata": {
    "dotnet_interactive": {
     "language": "csharp"
    },
    "polyglot_notebook": {
     "kernelName": "csharp"
    },
    "vscode": {
     "languageId": "polyglot-notebook"
    }
   },
   "outputs": [
    {
     "data": {
      "text/html": [
       "<div class=\"dni-plaintext\"><pre>15050382231</pre></div><style>\r\n",
       ".dni-code-hint {\r\n",
       "    font-style: italic;\r\n",
       "    overflow: hidden;\r\n",
       "    white-space: nowrap;\r\n",
       "}\r\n",
       ".dni-treeview {\r\n",
       "    white-space: nowrap;\r\n",
       "}\r\n",
       ".dni-treeview td {\r\n",
       "    vertical-align: top;\r\n",
       "    text-align: start;\r\n",
       "}\r\n",
       "details.dni-treeview {\r\n",
       "    padding-left: 1em;\r\n",
       "}\r\n",
       "table td {\r\n",
       "    text-align: start;\r\n",
       "}\r\n",
       "table tr { \r\n",
       "    vertical-align: top; \r\n",
       "    margin: 0em 0px;\r\n",
       "}\r\n",
       "table tr td pre \r\n",
       "{ \r\n",
       "    vertical-align: top !important; \r\n",
       "    margin: 0em 0px !important;\r\n",
       "} \r\n",
       "table th {\r\n",
       "    text-align: start;\r\n",
       "}\r\n",
       "</style>"
      ]
     },
     "metadata": {},
     "output_type": "display_data"
    },
    {
     "data": {
      "text/plain": [
       "Wall time: 137.2888ms"
      ]
     },
     "metadata": {},
     "output_type": "display_data"
    }
   ],
   "source": [
    "#!time\n",
    "var monkeys = input.Split(\"\\n\\n\").Select(Monkey.Parse).ToArray();\n",
    "\n",
    "foreach (var monkey in monkeys)\n",
    "{\n",
    "    monkey.SetNextMonkeys(monkeys);\n",
    "}\n",
    "\n",
    "var factor = monkeys\n",
    "    .Select(m => m.DivisibleTest)\n",
    "    .Aggregate((f1, f2) => f1 * f2);\n",
    "\n",
    "for (var i = 0; i < 10_000; i++)\n",
    "{\n",
    "    foreach (var monkey in monkeys)\n",
    "    {\n",
    "        monkey.DoTurn(true, factor);\n",
    "    }\n",
    "}\n",
    "\n",
    "monkeys\n",
    "    .Select(m => m.NoOfInspections)\n",
    "    .OrderByDescending(x => x)\n",
    "    .Take(2)\n",
    "    .Aggregate((x, y) => x * y)"
   ]
  }
 ],
 "metadata": {
  "kernelspec": {
   "display_name": ".NET (C#)",
   "language": "C#",
   "name": ".net-csharp"
  },
  "polyglot_notebook": {
   "kernelInfo": {
    "defaultKernelName": "csharp",
    "items": [
     {
      "aliases": [],
      "name": "csharp"
     }
    ]
   }
  }
 },
 "nbformat": 4,
 "nbformat_minor": 2
}
