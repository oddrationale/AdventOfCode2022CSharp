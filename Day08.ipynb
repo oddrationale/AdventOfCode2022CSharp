{
 "cells": [
  {
   "cell_type": "markdown",
   "metadata": {
    "dotnet_interactive": {
     "language": "csharp"
    },
    "polyglot_notebook": {
     "kernelName": "csharp"
    }
   },
   "source": [
    "[![Binder](https://mybinder.org/badge_logo.svg)](https://mybinder.org/v2/gh/oddrationale/AdventOfCode2022CSharp/main?urlpath=lab%2Ftree%2FDay08.ipynb)"
   ]
  },
  {
   "cell_type": "markdown",
   "metadata": {
    "dotnet_interactive": {
     "language": "csharp"
    }
   },
   "source": [
    "<h2>--- Day 8: Treetop Tree House ---</h2><p>The expedition comes across a peculiar patch of tall trees all planted carefully in a grid. The Elves explain that a previous expedition planted these trees as a reforestation effort. Now, they're curious if this would be a good location for a <a href=\"https://en.wikipedia.org/wiki/Tree_house\" target=\"_blank\">tree house</a>.</p>\n",
    "<p>First, determine whether there is enough tree cover here to keep a tree house <em>hidden</em>. To do this, you need to count the number of trees that are <em>visible from outside the grid</em> when looking directly along a row or column.</p>\n",
    "<p>The Elves have already launched a <a href=\"https://en.wikipedia.org/wiki/Quadcopter\" target=\"_blank\">quadcopter</a> to generate a map with the height of each tree (<span title=\"The Elves have already launched a quadcopter (your puzzle input).\">your puzzle input</span>). For example:</p>\n",
    "<pre><code>30373\n",
    "25512\n",
    "65332\n",
    "33549\n",
    "35390\n",
    "</code></pre>\n",
    "<p>Each tree is represented as a single digit whose value is its height, where <code>0</code> is the shortest and <code>9</code> is the tallest.</p>\n",
    "<p>A tree is <em>visible</em> if all of the other trees between it and an edge of the grid are <em>shorter</em> than it. Only consider trees in the same row or column; that is, only look up, down, left, or right from any given tree.</p>\n",
    "<p>All of the trees around the edge of the grid are <em>visible</em> - since they are already on the edge, there are no trees to block the view. In this example, that only leaves the <em>interior nine trees</em> to consider:</p>\n",
    "<ul>\n",
    "<li>The top-left <code>5</code> is <em>visible</em> from the left and top. (It isn't visible from the right or bottom since other trees of height <code>5</code> are in the way.)</li>\n",
    "<li>The top-middle <code>5</code> is <em>visible</em> from the top and right.</li>\n",
    "<li>The top-right <code>1</code> is not visible from any direction; for it to be visible, there would need to only be trees of height <em>0</em> between it and an edge.</li>\n",
    "<li>The left-middle <code>5</code> is <em>visible</em>, but only from the right.</li>\n",
    "<li>The center <code>3</code> is not visible from any direction; for it to be visible, there would need to be only trees of at most height <code>2</code> between it and an edge.</li>\n",
    "<li>The right-middle <code>3</code> is <em>visible</em> from the right.</li>\n",
    "<li>In the bottom row, the middle <code>5</code> is <em>visible</em>, but the <code>3</code> and <code>4</code> are not.</li>\n",
    "</ul>\n",
    "<p>With 16 trees visible on the edge and another 5 visible in the interior, a total of <code><em>21</em></code> trees are visible in this arrangement.</p>\n",
    "<p>Consider your map; <em>how many trees are visible from outside the grid?</em></p>"
   ]
  },
  {
   "cell_type": "code",
   "execution_count": 7,
   "metadata": {
    "dotnet_interactive": {
     "language": "csharp"
    },
    "vscode": {
     "languageId": "polyglot-notebook"
    }
   },
   "outputs": [],
   "source": [
    "using System.IO;"
   ]
  },
  {
   "cell_type": "code",
   "execution_count": 8,
   "metadata": {
    "dotnet_interactive": {
     "language": "csharp"
    },
    "polyglot_notebook": {
     "kernelName": "csharp"
    },
    "vscode": {
     "languageId": "polyglot-notebook"
    }
   },
   "outputs": [],
   "source": [
    "var input = File\n",
    "    .ReadAllLines(\"input/08.txt\")\n",
    "    .Select(line => line\n",
    "        .ToCharArray()\n",
    "        .Select(c => int.Parse(c.ToString()))\n",
    "        .ToArray())\n",
    "    .ToArray();"
   ]
  },
  {
   "cell_type": "code",
   "execution_count": 9,
   "metadata": {
    "dotnet_interactive": {
     "language": "csharp"
    },
    "polyglot_notebook": {
     "kernelName": "csharp"
    },
    "vscode": {
     "languageId": "polyglot-notebook"
    }
   },
   "outputs": [],
   "source": [
    "bool isVisible(int[][] grid, int x, int y)\n",
    "{\n",
    "    var maxX = grid.First().Length;\n",
    "    var maxY = grid.Length;\n",
    "\n",
    "    bool isVisibleFromLeft()\n",
    "    {\n",
    "        for (var i = x - 1; i >= 0; i--)\n",
    "        {\n",
    "            if (grid[y][i] >= grid[y][x])\n",
    "            {\n",
    "                return false;\n",
    "            }\n",
    "        }\n",
    "        return true;\n",
    "    }\n",
    "    \n",
    "    bool isVisibleFromRight()\n",
    "    {\n",
    "        for (var i = x + 1; i < maxX; i++)\n",
    "        {\n",
    "            if (grid[y][i] >= grid[y][x])\n",
    "            {\n",
    "                return false;\n",
    "            }\n",
    "        }\n",
    "        return true;\n",
    "    }\n",
    "\n",
    "    bool isVisibleFromTop()\n",
    "    {\n",
    "        for (var i = y - 1; i >= 0; i--)\n",
    "        {\n",
    "            if (grid[i][x] >= grid[y][x])\n",
    "            {\n",
    "                return false;\n",
    "            }\n",
    "        }\n",
    "        return true;\n",
    "    }\n",
    "    \n",
    "    bool isVisibleFromBottom()\n",
    "    {\n",
    "        for (var i = y + 1; i < maxY; i++)\n",
    "        {\n",
    "            if (grid[i][x] >= grid[y][x])\n",
    "            {\n",
    "                return false;\n",
    "            }\n",
    "        }\n",
    "        return true;\n",
    "    }\n",
    "    \n",
    "    return isVisibleFromLeft() \n",
    "        || isVisibleFromRight()\n",
    "        || isVisibleFromTop() \n",
    "        || isVisibleFromBottom();\n",
    "}"
   ]
  },
  {
   "cell_type": "code",
   "execution_count": 10,
   "metadata": {
    "dotnet_interactive": {
     "language": "csharp"
    },
    "polyglot_notebook": {
     "kernelName": "csharp"
    },
    "vscode": {
     "languageId": "polyglot-notebook"
    }
   },
   "outputs": [
    {
     "data": {
      "text/html": [
       "<div class=\"dni-plaintext\"><pre>1829</pre></div><style>\r\n",
       ".dni-code-hint {\r\n",
       "    font-style: italic;\r\n",
       "    overflow: hidden;\r\n",
       "    white-space: nowrap;\r\n",
       "}\r\n",
       ".dni-treeview {\r\n",
       "    white-space: nowrap;\r\n",
       "}\r\n",
       ".dni-treeview td {\r\n",
       "    vertical-align: top;\r\n",
       "    text-align: start;\r\n",
       "}\r\n",
       "details.dni-treeview {\r\n",
       "    padding-left: 1em;\r\n",
       "}\r\n",
       "table td {\r\n",
       "    text-align: start;\r\n",
       "}\r\n",
       "table tr { \r\n",
       "    vertical-align: top; \r\n",
       "    margin: 0em 0px;\r\n",
       "}\r\n",
       "table tr td pre \r\n",
       "{ \r\n",
       "    vertical-align: top !important; \r\n",
       "    margin: 0em 0px !important;\r\n",
       "} \r\n",
       "table th {\r\n",
       "    text-align: start;\r\n",
       "}\r\n",
       "</style>"
      ]
     },
     "execution_count": 10,
     "metadata": {},
     "output_type": "execute_result"
    },
    {
     "data": {
      "text/plain": [
       "Wall time: 92.0219ms"
      ]
     },
     "metadata": {},
     "output_type": "display_data"
    }
   ],
   "source": [
    "#!time\n",
    "input\n",
    "    .Select((row, y) => row\n",
    "        .Select((tree, x) => isVisible(input, x, y)))\n",
    "    .SelectMany(visible => visible)\n",
    "    .Where(visible => visible == true)\n",
    "    .Count()"
   ]
  },
  {
   "cell_type": "markdown",
   "metadata": {},
   "source": [
    "<h2 id=\"part2\">--- Part Two ---</h2><p>Content with the amount of tree cover available, the Elves just need to know the best spot to build their tree house: they would like to be able to see a lot of <em>trees</em>.</p>\n",
    "<p>To measure the viewing distance from a given tree, look up, down, left, and right from that tree; stop if you reach an edge or at the first tree that is the same height or taller than the tree under consideration. (If a tree is right on the edge, at least one of its viewing distances will be zero.)</p>\n",
    "<p>The Elves don't care about distant trees taller than those found by the rules above; the proposed tree house has large <a href=\"https://en.wikipedia.org/wiki/Eaves\" target=\"_blank\">eaves</a> to keep it dry, so they wouldn't be able to see higher than the tree house anyway.</p>\n",
    "<p>In the example above, consider the middle <code>5</code> in the second row:</p>\n",
    "<pre><code>30373\n",
    "25<em>5</em>12\n",
    "65332\n",
    "33549\n",
    "35390\n",
    "</code></pre>\n",
    "<ul>\n",
    "<li>Looking up, its view is not blocked; it can see <code><em>1</em></code> tree (of height <code>3</code>).</li>\n",
    "<li>Looking left, its view is blocked immediately; it can see only <code><em>1</em></code> tree (of height <code>5</code>, right next to it).</li>\n",
    "<li>Looking right, its view is not blocked; it can see <code><em>2</em></code> trees.</li>\n",
    "<li>Looking down, its view is blocked eventually; it can see <code><em>2</em></code> trees (one of height <code>3</code>, then the tree of height <code>5</code> that blocks its view).</li>\n",
    "</ul>\n",
    "<p>A tree's <em>scenic score</em> is found by <em>multiplying together</em> its viewing distance in each of the four directions. For this tree, this is <code><em>4</em></code> (found by multiplying <code>1 * 1 * 2 * 2</code>).</p>\n",
    "<p>However, you can do even better: consider the tree of height <code>5</code> in the middle of the fourth row:</p>\n",
    "<pre><code>30373\n",
    "25512\n",
    "65332\n",
    "33<em>5</em>49\n",
    "35390\n",
    "</code></pre>\n",
    "<ul>\n",
    "<li>Looking up, its view is blocked at <code><em>2</em></code> trees (by another tree with a height of <code>5</code>).</li>\n",
    "<li>Looking left, its view is not blocked; it can see <code><em>2</em></code> trees.</li>\n",
    "<li>Looking down, its view is also not blocked; it can see <code><em>1</em></code> tree.</li>\n",
    "<li>Looking right, its view is blocked at <code><em>2</em></code> trees (by a massive tree of height <code>9</code>).</li>\n",
    "</ul>\n",
    "<p>This tree's scenic score is <code><em>8</em></code> (<code>2 * 2 * 1 * 2</code>); this is the ideal spot for the tree house.</p>\n",
    "<p>Consider each tree on your map. <em>What is the highest scenic score possible for any tree?</em></p>"
   ]
  },
  {
   "cell_type": "code",
   "execution_count": 11,
   "metadata": {},
   "outputs": [],
   "source": [
    "long calcScenicScore(int[][] grid, int x, int y)\n",
    "{\n",
    "    var maxX = grid.First().Length;\n",
    "    var maxY = grid.Length;\n",
    "\n",
    "    long countFromLeft()\n",
    "    {\n",
    "        long count = 0L;\n",
    "        for (var i = x - 1; i >= 0; i--)\n",
    "        {\n",
    "            if (grid[y][i] < grid[y][x])\n",
    "            {\n",
    "                count++;\n",
    "            }\n",
    "            else\n",
    "            {\n",
    "                count++;\n",
    "                return count;\n",
    "            }\n",
    "        }\n",
    "        return count;\n",
    "    }\n",
    "    \n",
    "    long countFromRight()\n",
    "    {\n",
    "        long count = 0L;\n",
    "        for (var i = x + 1; i < maxX; i++)\n",
    "        {\n",
    "            if (grid[y][i] < grid[y][x])\n",
    "            {\n",
    "                count++;\n",
    "            }\n",
    "            else\n",
    "            {\n",
    "                count++;\n",
    "                return count;\n",
    "            }\n",
    "        }\n",
    "        return count;\n",
    "    }\n",
    "\n",
    "    long countFromTop()\n",
    "    {\n",
    "        long count = 0L;\n",
    "        for (var i = y - 1; i >= 0; i--)\n",
    "        {\n",
    "            if (grid[i][x] < grid[y][x])\n",
    "            {\n",
    "                count++;\n",
    "            }\n",
    "            else\n",
    "            {\n",
    "                count++;\n",
    "                return count;\n",
    "            }\n",
    "        }\n",
    "        return count;\n",
    "    }\n",
    "    \n",
    "    long countFromBottom()\n",
    "    {\n",
    "        long count = 0L;\n",
    "        for (var i = y + 1; i < maxY; i++)\n",
    "        {\n",
    "            if (grid[i][x] < grid[y][x])\n",
    "            {\n",
    "                count++;\n",
    "            }\n",
    "            else\n",
    "            {\n",
    "                count++;\n",
    "                return count;\n",
    "            }\n",
    "        }\n",
    "        return count;\n",
    "    }    \n",
    "    \n",
    "    return countFromLeft() \n",
    "        * countFromRight()\n",
    "        * countFromTop() \n",
    "        * countFromBottom();\n",
    "}"
   ]
  },
  {
   "cell_type": "code",
   "execution_count": 12,
   "metadata": {},
   "outputs": [
    {
     "data": {
      "text/html": [
       "<div class=\"dni-plaintext\"><pre>291840</pre></div><style>\r\n",
       ".dni-code-hint {\r\n",
       "    font-style: italic;\r\n",
       "    overflow: hidden;\r\n",
       "    white-space: nowrap;\r\n",
       "}\r\n",
       ".dni-treeview {\r\n",
       "    white-space: nowrap;\r\n",
       "}\r\n",
       ".dni-treeview td {\r\n",
       "    vertical-align: top;\r\n",
       "    text-align: start;\r\n",
       "}\r\n",
       "details.dni-treeview {\r\n",
       "    padding-left: 1em;\r\n",
       "}\r\n",
       "table td {\r\n",
       "    text-align: start;\r\n",
       "}\r\n",
       "table tr { \r\n",
       "    vertical-align: top; \r\n",
       "    margin: 0em 0px;\r\n",
       "}\r\n",
       "table tr td pre \r\n",
       "{ \r\n",
       "    vertical-align: top !important; \r\n",
       "    margin: 0em 0px !important;\r\n",
       "} \r\n",
       "table th {\r\n",
       "    text-align: start;\r\n",
       "}\r\n",
       "</style>"
      ]
     },
     "execution_count": 12,
     "metadata": {},
     "output_type": "execute_result"
    },
    {
     "data": {
      "text/plain": [
       "Wall time: 133.2655ms"
      ]
     },
     "metadata": {},
     "output_type": "display_data"
    }
   ],
   "source": [
    "#!time\n",
    "input\n",
    "    .Select((row, y) => row\n",
    "        .Select((tree, x) => calcScenicScore(input, x, y)))\n",
    "    .SelectMany(count => count)\n",
    "    .Max()"
   ]
  }
 ],
 "metadata": {
  "kernelspec": {
   "display_name": ".NET (C#)",
   "language": "C#",
   "name": ".net-csharp"
  },
  "language_info": {
   "file_extension": ".cs",
   "mimetype": "text/x-csharp",
   "name": "C#",
   "pygments_lexer": "csharp",
   "version": "11.0"
  },
  "polyglot_notebook": {
   "kernelInfo": {
    "defaultKernelName": "csharp",
    "items": [
     {
      "aliases": [],
      "name": "csharp"
     }
    ]
   }
  },
  "vscode": {
   "interpreter": {
    "hash": "3160db303d1d5e42d96a90614f83b4e64501c315f983933bf811195fabd006c9"
   }
  }
 },
 "nbformat": 4,
 "nbformat_minor": 4
}
