{
 "cells": [
  {
   "attachments": {},
   "cell_type": "markdown",
   "metadata": {
    "dotnet_interactive": {
     "language": "csharp"
    },
    "polyglot_notebook": {
     "kernelName": "csharp"
    }
   },
   "source": [
    "[![Binder](https://mybinder.org/badge_logo.svg)](https://mybinder.org/v2/gh/oddrationale/AdventOfCode2022CSharp/main?urlpath=lab%2Ftree%2FDay10.ipynb)"
   ]
  },
  {
   "attachments": {},
   "cell_type": "markdown",
   "metadata": {
    "dotnet_interactive": {
     "language": "csharp"
    },
    "polyglot_notebook": {
     "kernelName": "csharp"
    }
   },
   "source": [
    "<h2>--- Day 10: Cathode-Ray Tube ---</h2><p>You avoid the ropes, plunge into the river, and swim to shore.</p>\n",
    "<p>The Elves yell something about meeting back up with them upriver, but the river is too loud to tell exactly what they're saying. They finish crossing the bridge and disappear from view.</p>\n",
    "<p>Situations like this must be why the Elves prioritized getting the communication system on your handheld device working. You pull it out of your pack, but the amount of water slowly draining from a big crack in its screen tells you it probably won't be of much immediate use.</p>\n",
    "<p><em>Unless</em>, that is, you can design a replacement for the device's video system! It seems to be some kind of <a href=\"https://en.wikipedia.org/wiki/Cathode-ray_tube\" target=\"_blank\">cathode-ray tube</a> screen and simple CPU that are both driven by a precise <em>clock circuit</em>. The clock circuit ticks at a constant rate; each tick is called a <em>cycle</em>.</p>\n",
    "<p>Start by figuring out the signal being sent by the CPU. The CPU has a single register, <code>X</code>, which starts with the value <code>1</code>. It supports only two instructions:</p>\n",
    "<ul>\n",
    "<li><code>addx V</code> takes <em>two cycles</em> to complete. <em>After</em> two cycles, the <code>X</code> register is increased by the value <code>V</code>. (<code>V</code> can be negative.)</li>\n",
    "<li><code>noop</code> takes <em>one cycle</em> to complete. It has no other effect.</li>\n",
    "</ul>\n",
    "<p>The CPU uses these instructions in a program (your puzzle input) to, somehow, tell the screen what to draw.</p>\n",
    "<p>Consider the following small program:</p>\n",
    "<pre><code>noop\n",
    "addx 3\n",
    "addx -5\n",
    "</code></pre>\n",
    "<p>Execution of this program proceeds as follows:</p>\n",
    "<ul>\n",
    "<li>At the start of the first cycle, the <code>noop</code> instruction begins execution. During the first cycle, <code>X</code> is <code>1</code>. After the first cycle, the <code>noop</code> instruction finishes execution, doing nothing.</li>\n",
    "<li>At the start of the second cycle, the <code>addx 3</code> instruction begins execution. During the second cycle, <code>X</code> is still <code>1</code>.</li>\n",
    "<li>During the third cycle, <code>X</code> is still <code>1</code>. After the third cycle, the <code>addx 3</code> instruction finishes execution, setting <code>X</code> to <code>4</code>.</li>\n",
    "<li>At the start of the fourth cycle, the <code>addx -5</code> instruction begins execution. During the fourth cycle, <code>X</code> is still <code>4</code>.</li>\n",
    "<li>During the fifth cycle, <code>X</code> is still <code>4</code>. After the fifth cycle, the <code>addx -5</code> instruction finishes execution, setting <code>X</code> to <code>-1</code>.</li>\n",
    "</ul>\n",
    "<p>Maybe you can learn something by looking at the value of the <code>X</code> register throughout execution. For now, consider the <em>signal strength</em> (the cycle number multiplied by the value of the <code>X</code> register) <em>during</em> the 20th cycle and every 40 cycles after that (that is, during the 20th, 60th, 100th, 140th, 180th, and 220th cycles).</p>\n",
    "<p>For example, consider this larger program:</p>\n",
    "<pre><code>addx 15\n",
    "addx -11\n",
    "addx 6\n",
    "addx -3\n",
    "addx 5\n",
    "addx -1\n",
    "addx -8\n",
    "addx 13\n",
    "addx 4\n",
    "noop\n",
    "addx -1\n",
    "addx 5\n",
    "addx -1\n",
    "addx 5\n",
    "addx -1\n",
    "addx 5\n",
    "addx -1\n",
    "addx 5\n",
    "addx -1\n",
    "addx -35\n",
    "addx 1\n",
    "addx 24\n",
    "addx -19\n",
    "addx 1\n",
    "addx 16\n",
    "addx -11\n",
    "noop\n",
    "noop\n",
    "addx 21\n",
    "addx -15\n",
    "noop\n",
    "noop\n",
    "addx -3\n",
    "addx 9\n",
    "addx 1\n",
    "addx -3\n",
    "addx 8\n",
    "addx 1\n",
    "addx 5\n",
    "noop\n",
    "noop\n",
    "noop\n",
    "noop\n",
    "noop\n",
    "addx -36\n",
    "noop\n",
    "addx 1\n",
    "addx 7\n",
    "noop\n",
    "noop\n",
    "noop\n",
    "addx 2\n",
    "addx 6\n",
    "noop\n",
    "noop\n",
    "noop\n",
    "noop\n",
    "noop\n",
    "addx 1\n",
    "noop\n",
    "noop\n",
    "addx 7\n",
    "addx 1\n",
    "noop\n",
    "addx -13\n",
    "addx 13\n",
    "addx 7\n",
    "noop\n",
    "addx 1\n",
    "addx -33\n",
    "noop\n",
    "noop\n",
    "noop\n",
    "addx 2\n",
    "noop\n",
    "noop\n",
    "noop\n",
    "addx 8\n",
    "noop\n",
    "addx -1\n",
    "addx 2\n",
    "addx 1\n",
    "noop\n",
    "addx 17\n",
    "addx -9\n",
    "addx 1\n",
    "addx 1\n",
    "addx -3\n",
    "addx 11\n",
    "noop\n",
    "noop\n",
    "addx 1\n",
    "noop\n",
    "addx 1\n",
    "noop\n",
    "noop\n",
    "addx -13\n",
    "addx -19\n",
    "addx 1\n",
    "addx 3\n",
    "addx 26\n",
    "addx -30\n",
    "addx 12\n",
    "addx -1\n",
    "addx 3\n",
    "addx 1\n",
    "noop\n",
    "noop\n",
    "noop\n",
    "addx -9\n",
    "addx 18\n",
    "addx 1\n",
    "addx 2\n",
    "noop\n",
    "noop\n",
    "addx 9\n",
    "noop\n",
    "noop\n",
    "noop\n",
    "addx -1\n",
    "addx 2\n",
    "addx -37\n",
    "addx 1\n",
    "addx 3\n",
    "noop\n",
    "addx 15\n",
    "addx -21\n",
    "addx 22\n",
    "addx -6\n",
    "addx 1\n",
    "noop\n",
    "addx 2\n",
    "addx 1\n",
    "noop\n",
    "addx -10\n",
    "noop\n",
    "noop\n",
    "addx 20\n",
    "addx 1\n",
    "addx 2\n",
    "addx 2\n",
    "addx -6\n",
    "addx -11\n",
    "noop\n",
    "noop\n",
    "noop\n",
    "</code></pre>\n",
    "<p>The interesting signal strengths can be determined as follows:</p>\n",
    "<ul>\n",
    "<li>During the 20th cycle, register <code>X</code> has the value <code>21</code>, so the signal strength is 20 * 21 = <em>420</em>. (The 20th cycle occurs in the middle of the second <code>addx -1</code>, so the value of register <code>X</code> is the starting value, <code>1</code>, plus all of the other <code>addx</code> values up to that point: 1 + 15 - 11 + 6 - 3 + 5 - 1 - 8 + 13 + 4 = 21.)</li>\n",
    "<li>During the 60th cycle, register <code>X</code> has the value <code>19</code>, so the signal strength is 60 * 19 = <code><em>1140</em></code>.</li>\n",
    "<li>During the 100th cycle, register <code>X</code> has the value <code>18</code>, so the signal strength is 100 * 18 = <code><em>1800</em></code>.</li>\n",
    "<li>During the 140th cycle, register <code>X</code> has the value <code>21</code>, so the signal strength is 140 * 21 = <code><em>2940</em></code>.</li>\n",
    "<li>During the 180th cycle, register <code>X</code> has the value <code>16</code>, so the signal strength is 180 * 16 = <code><em>2880</em></code>.</li>\n",
    "<li>During the 220th cycle, register <code>X</code> has the value <code>18</code>, so the signal strength is 220 * 18 = <code><em>3960</em></code>.</li>\n",
    "</ul>\n",
    "<p>The sum of these signal strengths is <code><em>13140</em></code>.</p>\n",
    "<p>Find the signal strength during the 20th, 60th, 100th, 140th, 180th, and 220th cycles. <em>What is the sum of these six signal strengths?</em></p>"
   ]
  },
  {
   "cell_type": "code",
   "execution_count": 6,
   "metadata": {
    "dotnet_interactive": {
     "language": "csharp"
    },
    "polyglot_notebook": {
     "kernelName": "csharp"
    },
    "vscode": {
     "languageId": "polyglot-notebook"
    }
   },
   "outputs": [],
   "source": [
    "using System.IO;"
   ]
  },
  {
   "cell_type": "code",
   "execution_count": 7,
   "metadata": {
    "dotnet_interactive": {
     "language": "csharp"
    },
    "polyglot_notebook": {
     "kernelName": "csharp"
    },
    "vscode": {
     "languageId": "polyglot-notebook"
    }
   },
   "outputs": [],
   "source": [
    "var input = File.ReadAllLines(\"input/10.txt\");"
   ]
  },
  {
   "cell_type": "code",
   "execution_count": 8,
   "metadata": {
    "dotnet_interactive": {
     "language": "csharp"
    },
    "polyglot_notebook": {
     "kernelName": "csharp"
    },
    "vscode": {
     "languageId": "polyglot-notebook"
    }
   },
   "outputs": [],
   "source": [
    "IEnumerable<int> cycle(string[] program)\n",
    "{\n",
    "    var X = 1;\n",
    "\n",
    "    foreach (var ins in program)\n",
    "    {\n",
    "        \n",
    "        if (ins.StartsWith(\"noop\"))\n",
    "        {\n",
    "            yield return X;\n",
    "        }\n",
    "        else\n",
    "        {\n",
    "            yield return X;\n",
    "            yield return X;\n",
    "            X += int.Parse(ins.Split(\" \").Last());\n",
    "        }\n",
    "    }\n",
    "}"
   ]
  },
  {
   "cell_type": "code",
   "execution_count": 9,
   "metadata": {
    "dotnet_interactive": {
     "language": "csharp"
    },
    "polyglot_notebook": {
     "kernelName": "csharp"
    },
    "vscode": {
     "languageId": "polyglot-notebook"
    }
   },
   "outputs": [
    {
     "data": {
      "text/html": [
       "<div class=\"dni-plaintext\"><pre>13480</pre></div><style>\r\n",
       ".dni-code-hint {\r\n",
       "    font-style: italic;\r\n",
       "    overflow: hidden;\r\n",
       "    white-space: nowrap;\r\n",
       "}\r\n",
       ".dni-treeview {\r\n",
       "    white-space: nowrap;\r\n",
       "}\r\n",
       ".dni-treeview td {\r\n",
       "    vertical-align: top;\r\n",
       "    text-align: start;\r\n",
       "}\r\n",
       "details.dni-treeview {\r\n",
       "    padding-left: 1em;\r\n",
       "}\r\n",
       "table td {\r\n",
       "    text-align: start;\r\n",
       "}\r\n",
       "table tr { \r\n",
       "    vertical-align: top; \r\n",
       "    margin: 0em 0px;\r\n",
       "}\r\n",
       "table tr td pre \r\n",
       "{ \r\n",
       "    vertical-align: top !important; \r\n",
       "    margin: 0em 0px !important;\r\n",
       "} \r\n",
       "table th {\r\n",
       "    text-align: start;\r\n",
       "}\r\n",
       "</style>"
      ]
     },
     "metadata": {},
     "output_type": "display_data"
    },
    {
     "data": {
      "text/plain": [
       "Wall time: 66.5521ms"
      ]
     },
     "metadata": {},
     "output_type": "display_data"
    }
   ],
   "source": [
    "#!time\n",
    "cycle(input)\n",
    "    .Select((register, i) => (i + 1) * register)\n",
    "    .Where((register, i) => i == 19 || i == 59 || i == 99 || i == 139 || i == 179 || i == 219)\n",
    "    .Sum() "
   ]
  },
  {
   "attachments": {},
   "cell_type": "markdown",
   "metadata": {
    "dotnet_interactive": {
     "language": "csharp"
    },
    "polyglot_notebook": {
     "kernelName": "csharp"
    }
   },
   "source": [
    "<h2 id=\"part2\">--- Part Two ---</h2><p>It seems like the <code>X</code> register controls the horizontal position of a <a href=\"https://en.wikipedia.org/wiki/Sprite_(computer_graphics)\" target=\"_blank\">sprite</a>. Specifically, the sprite is 3 pixels wide, and the <code>X</code> register sets the horizontal position of the <em>middle</em> of that sprite. (In this system, there is no such thing as \"vertical position\": if the sprite's horizontal position puts its pixels where the CRT is currently drawing, then those pixels will be drawn.)</p>\n",
    "<p>You count the pixels on the CRT: 40 wide and 6 high. This CRT screen draws the top row of pixels left-to-right, then the row below that, and so on. The left-most pixel in each row is in position <code>0</code>, and the right-most pixel in each row is in position <code>39</code>.</p>\n",
    "<p>Like the CPU, the CRT is tied closely to the clock circuit: the CRT draws <em>a single pixel during each cycle</em>. Representing each pixel of the screen as a <code>#</code>, here are the cycles during which the first and last pixel in each row are drawn:</p>\n",
    "<pre><code>Cycle   1 -&gt; <em>#</em>######################################<em>#</em> &lt;- Cycle  40\n",
    "Cycle  41 -&gt; <em>#</em>######################################<em>#</em> &lt;- Cycle  80\n",
    "Cycle  81 -&gt; <em>#</em>######################################<em>#</em> &lt;- Cycle 120\n",
    "Cycle 121 -&gt; <em>#</em>######################################<em>#</em> &lt;- Cycle 160\n",
    "Cycle 161 -&gt; <em>#</em>######################################<em>#</em> &lt;- Cycle 200\n",
    "Cycle 201 -&gt; <em>#</em>######################################<em>#</em> &lt;- Cycle 240\n",
    "</code></pre>\n",
    "<p>So, by <a href=\"https://en.wikipedia.org/wiki/Racing_the_Beam\" target=\"_blank\">carefully</a> <a href=\"https://www.youtube.com/watch?v=sJFnWZH5FXc\" target=\"_blank\"><span title=\"While you're at it, go watch everything else by Retro Game Mechanics Explained, too.\">timing</span></a> the CPU instructions and the CRT drawing operations, you should be able to determine whether the sprite is visible the instant each pixel is drawn. If the sprite is positioned such that one of its three pixels is the pixel currently being drawn, the screen produces a <em>lit</em> pixel (<code>#</code>); otherwise, the screen leaves the pixel <em>dark</em> (<code>.</code>).\n",
    "<p>The first few pixels from the larger example above are drawn as follows:</p>\n",
    "<pre><code>Sprite position: ###.....................................\n",
    "\n",
    "Start cycle   1: begin executing addx 15\n",
    "During cycle  1: CRT draws pixel in position 0\n",
    "Current CRT row: #\n",
    "\n",
    "During cycle  2: CRT draws pixel in position 1\n",
    "Current CRT row: ##\n",
    "End of cycle  2: finish executing addx 15 (Register X is now 16)\n",
    "Sprite position: ...............###......................\n",
    "\n",
    "Start cycle   3: begin executing addx -11\n",
    "During cycle  3: CRT draws pixel in position 2\n",
    "Current CRT row: ##.\n",
    "\n",
    "During cycle  4: CRT draws pixel in position 3\n",
    "Current CRT row: ##..\n",
    "End of cycle  4: finish executing addx -11 (Register X is now 5)\n",
    "Sprite position: ....###.................................\n",
    "\n",
    "Start cycle   5: begin executing addx 6\n",
    "During cycle  5: CRT draws pixel in position 4\n",
    "Current CRT row: ##..#\n",
    "\n",
    "During cycle  6: CRT draws pixel in position 5\n",
    "Current CRT row: ##..##\n",
    "End of cycle  6: finish executing addx 6 (Register X is now 11)\n",
    "Sprite position: ..........###...........................\n",
    "\n",
    "Start cycle   7: begin executing addx -3\n",
    "During cycle  7: CRT draws pixel in position 6\n",
    "Current CRT row: ##..##.\n",
    "\n",
    "During cycle  8: CRT draws pixel in position 7\n",
    "Current CRT row: ##..##..\n",
    "End of cycle  8: finish executing addx -3 (Register X is now 8)\n",
    "Sprite position: .......###..............................\n",
    "\n",
    "Start cycle   9: begin executing addx 5\n",
    "During cycle  9: CRT draws pixel in position 8\n",
    "Current CRT row: ##..##..#\n",
    "\n",
    "During cycle 10: CRT draws pixel in position 9\n",
    "Current CRT row: ##..##..##\n",
    "End of cycle 10: finish executing addx 5 (Register X is now 13)\n",
    "Sprite position: ............###.........................\n",
    "\n",
    "Start cycle  11: begin executing addx -1\n",
    "During cycle 11: CRT draws pixel in position 10\n",
    "Current CRT row: ##..##..##.\n",
    "\n",
    "During cycle 12: CRT draws pixel in position 11\n",
    "Current CRT row: ##..##..##..\n",
    "End of cycle 12: finish executing addx -1 (Register X is now 12)\n",
    "Sprite position: ...........###..........................\n",
    "\n",
    "Start cycle  13: begin executing addx -8\n",
    "During cycle 13: CRT draws pixel in position 12\n",
    "Current CRT row: ##..##..##..#\n",
    "\n",
    "During cycle 14: CRT draws pixel in position 13\n",
    "Current CRT row: ##..##..##..##\n",
    "End of cycle 14: finish executing addx -8 (Register X is now 4)\n",
    "Sprite position: ...###..................................\n",
    "\n",
    "Start cycle  15: begin executing addx 13\n",
    "During cycle 15: CRT draws pixel in position 14\n",
    "Current CRT row: ##..##..##..##.\n",
    "\n",
    "During cycle 16: CRT draws pixel in position 15\n",
    "Current CRT row: ##..##..##..##..\n",
    "End of cycle 16: finish executing addx 13 (Register X is now 17)\n",
    "Sprite position: ................###.....................\n",
    "\n",
    "Start cycle  17: begin executing addx 4\n",
    "During cycle 17: CRT draws pixel in position 16\n",
    "Current CRT row: ##..##..##..##..#\n",
    "\n",
    "During cycle 18: CRT draws pixel in position 17\n",
    "Current CRT row: ##..##..##..##..##\n",
    "End of cycle 18: finish executing addx 4 (Register X is now 21)\n",
    "Sprite position: ....................###.................\n",
    "\n",
    "Start cycle  19: begin executing noop\n",
    "During cycle 19: CRT draws pixel in position 18\n",
    "Current CRT row: ##..##..##..##..##.\n",
    "End of cycle 19: finish executing noop\n",
    "\n",
    "Start cycle  20: begin executing addx -1\n",
    "During cycle 20: CRT draws pixel in position 19\n",
    "Current CRT row: ##..##..##..##..##..\n",
    "\n",
    "During cycle 21: CRT draws pixel in position 20\n",
    "Current CRT row: ##..##..##..##..##..#\n",
    "End of cycle 21: finish executing addx -1 (Register X is now 20)\n",
    "Sprite position: ...................###..................\n",
    "</code></pre>\n",
    "<p>Allowing the program to run to completion causes the CRT to produce the following image:</p>\n",
    "<pre><code>##..##..##..##..##..##..##..##..##..##..\n",
    "###...###...###...###...###...###...###.\n",
    "####....####....####....####....####....\n",
    "#####.....#####.....#####.....#####.....\n",
    "######......######......######......####\n",
    "#######.......#######.......#######.....\n",
    "</code></pre>\n",
    "<p>Render the image given by your program. <em>What eight capital letters appear on your CRT?</em></p>"
   ]
  },
  {
   "cell_type": "code",
   "execution_count": 10,
   "metadata": {
    "dotnet_interactive": {
     "language": "csharp"
    },
    "polyglot_notebook": {
     "kernelName": "csharp"
    },
    "vscode": {
     "languageId": "polyglot-notebook"
    }
   },
   "outputs": [
    {
     "data": {
      "text/plain": [
       "####..##....##.###...##...##..####.#..#.\r\n",
       "#....#..#....#.#..#.#..#.#..#.#....#.#..\r\n",
       "###..#.......#.###..#....#....###..##...\r\n",
       "#....#.##....#.#..#.#.##.#....#....#.#..\r\n",
       "#....#..#.#..#.#..#.#..#.#..#.#....#.#..\r\n",
       "####..###..##..###...###..##..#....#..#."
      ]
     },
     "metadata": {},
     "output_type": "display_data"
    },
    {
     "data": {
      "text/plain": [
       "Wall time: 107.7669ms"
      ]
     },
     "metadata": {},
     "output_type": "display_data"
    }
   ],
   "source": [
    "#!time\n",
    "String.Join(Environment.NewLine, cycle(input)\n",
    "    .Select((register, i) =>\n",
    "    {\n",
    "        var pixel = i % 40;\n",
    "        if (pixel == register - 1 || pixel == register || pixel == register + 1)\n",
    "        {\n",
    "            return '#';\n",
    "        }\n",
    "        else\n",
    "        {\n",
    "            return '.';\n",
    "        }\n",
    "    })\n",
    "    .Chunk(40)\n",
    "    .Select(row => new string(row))\n",
    ")\n"
   ]
  }
 ],
 "metadata": {
  "kernelspec": {
   "display_name": ".NET (C#)",
   "language": "C#",
   "name": ".net-csharp"
  },
  "polyglot_notebook": {
   "kernelInfo": {
    "defaultKernelName": "csharp",
    "items": [
     {
      "aliases": [],
      "name": "csharp"
     }
    ]
   }
  }
 },
 "nbformat": 4,
 "nbformat_minor": 2
}
